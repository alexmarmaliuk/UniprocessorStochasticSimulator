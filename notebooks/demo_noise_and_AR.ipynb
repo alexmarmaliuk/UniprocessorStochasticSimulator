{
 "cells": [
  {
   "cell_type": "code",
   "execution_count": 1,
   "id": "c55849ad",
   "metadata": {},
   "outputs": [],
   "source": [
    "import numpy as np\n",
    "import matplotlib.pyplot as plt\n",
    "import plotly.graph_objects as go\n",
    "\n",
    "import sys\n",
    "import os\n",
    "\n",
    "sys.path.append(os.path.abspath(\"../src\"))\n",
    "\n",
    "from scheduler.stochastic_source import StochasticSource, IID, Discrete, AR1, ColoredNoise\n",
    "from scheduler.task_models import Task, PeriodicTask\n",
    "from scheduler.processor import Uniprocessor\n",
    "from scheduler.supplementary import PlotManager, get_periodic_tasks_hyperperiod, add_hyperperiod_lines"
   ]
  },
  {
   "cell_type": "markdown",
   "id": "c37093a8",
   "metadata": {},
   "source": [
    "// *no jitter unless specified explicitly*"
   ]
  },
  {
   "cell_type": "markdown",
   "id": "4f74c3de",
   "metadata": {},
   "source": [
    "# Demo for deterministic model"
   ]
  },
  {
   "cell_type": "code",
   "execution_count": 2,
   "id": "02e7056d",
   "metadata": {},
   "outputs": [],
   "source": [
    "taskload = [\n",
    "  PeriodicTask(name=\"T1\", period=20, priority=1, base_execution_time=5), \n",
    "  PeriodicTask(name=\"T2\", offset=2, period=5, priority=1, base_execution_time=3, relative_deadline=4),\n",
    "  PeriodicTask(name=\"T3\", period=20, priority=1, base_execution_time=1)\n",
    "]"
   ]
  },
  {
   "cell_type": "code",
   "execution_count": 3,
   "id": "20770fe6",
   "metadata": {},
   "outputs": [
    {
     "data": {
      "application/vnd.plotly.v1+json": {
       "config": {
        "plotlyServerURL": "https://plot.ly"
       },
       "data": [
        {
         "line": {
          "color": "#AF092F",
          "dash": "dash",
          "width": 2
         },
         "mode": "lines",
         "name": "T1-0 arrival",
         "type": "scatter",
         "x": [
          0,
          0
         ],
         "y": [
          0,
          5
         ]
        },
        {
         "line": {
          "color": "#AF092F",
          "width": 4
         },
         "mode": "lines",
         "name": "T1",
         "type": "scatter",
         "x": [
          0,
          0
         ],
         "y": [
          5,
          5
         ]
        },
        {
         "line": {
          "color": "#17FCCA",
          "dash": "dash",
          "width": 2
         },
         "mode": "lines",
         "name": "T3-0 arrival",
         "type": "scatter",
         "x": [
          0,
          0
         ],
         "y": [
          5,
          6
         ]
        },
        {
         "line": {
          "color": "#AF092F",
          "width": 4
         },
         "mode": "lines",
         "name": "T1",
         "type": "scatter",
         "x": [
          0,
          2
         ],
         "y": [
          6,
          4
         ]
        },
        {
         "line": {
          "color": "#28C81B",
          "dash": "dash",
          "width": 2
         },
         "mode": "lines",
         "name": "T2-0 arrival",
         "type": "scatter",
         "x": [
          2,
          2
         ],
         "y": [
          4,
          7
         ]
        },
        {
         "line": {
          "color": "#AF092F",
          "width": 4
         },
         "mode": "lines",
         "name": "T1",
         "type": "scatter",
         "x": [
          2,
          5
         ],
         "y": [
          7,
          4
         ]
        },
        {
         "line": {
          "color": "#17FCCA",
          "width": 4
         },
         "mode": "lines",
         "name": "T3",
         "type": "scatter",
         "x": [
          5,
          6
         ],
         "y": [
          4,
          3
         ]
        },
        {
         "line": {
          "color": "#28C81B",
          "width": 4
         },
         "mode": "lines",
         "name": "T2",
         "type": "scatter",
         "x": [
          6,
          7
         ],
         "y": [
          3,
          2
         ]
        },
        {
         "line": {
          "color": "#28C81B",
          "dash": "dash",
          "width": 2
         },
         "mode": "lines",
         "name": "T2-1 arrival",
         "type": "scatter",
         "x": [
          7,
          7
         ],
         "y": [
          2,
          5
         ]
        },
        {
         "line": {
          "color": "#28C81B",
          "width": 4
         },
         "mode": "lines",
         "name": "T2",
         "type": "scatter",
         "x": [
          7,
          9
         ],
         "y": [
          5,
          3
         ]
        },
        {
         "line": {
          "color": "#28C81B",
          "width": 4
         },
         "mode": "lines",
         "name": "T2",
         "type": "scatter",
         "x": [
          9,
          12
         ],
         "y": [
          3,
          0
         ]
        },
        {
         "line": {
          "color": "#28C81B",
          "dash": "dash",
          "width": 2
         },
         "mode": "lines",
         "name": "T2-2 arrival",
         "type": "scatter",
         "x": [
          12,
          12
         ],
         "y": [
          0,
          3
         ]
        },
        {
         "line": {
          "color": "#28C81B",
          "width": 4
         },
         "mode": "lines",
         "name": "T2",
         "type": "scatter",
         "x": [
          12,
          15
         ],
         "y": [
          3,
          0
         ]
        },
        {
         "line": {
          "color": "#28C81B",
          "dash": "dash",
          "width": 2
         },
         "mode": "lines",
         "name": "T2-3 arrival",
         "type": "scatter",
         "x": [
          17,
          17
         ],
         "y": [
          0,
          3
         ]
        },
        {
         "line": {
          "color": "#28C81B",
          "width": 4
         },
         "mode": "lines",
         "name": "T2",
         "type": "scatter",
         "x": [
          17,
          20
         ],
         "y": [
          3,
          0
         ]
        },
        {
         "line": {
          "color": "#AF092F",
          "dash": "dash",
          "width": 2
         },
         "mode": "lines",
         "name": "T1-1 arrival",
         "type": "scatter",
         "x": [
          20,
          20
         ],
         "y": [
          0,
          5
         ]
        },
        {
         "line": {
          "color": "#AF092F",
          "width": 4
         },
         "mode": "lines",
         "name": "T1",
         "type": "scatter",
         "x": [
          20,
          20
         ],
         "y": [
          5,
          5
         ]
        },
        {
         "line": {
          "color": "#17FCCA",
          "dash": "dash",
          "width": 2
         },
         "mode": "lines",
         "name": "T3-1 arrival",
         "type": "scatter",
         "x": [
          20,
          20
         ],
         "y": [
          5,
          6
         ]
        },
        {
         "line": {
          "color": "#AF092F",
          "width": 4
         },
         "mode": "lines",
         "name": "T1",
         "type": "scatter",
         "x": [
          20,
          22
         ],
         "y": [
          6,
          4
         ]
        },
        {
         "line": {
          "color": "#28C81B",
          "dash": "dash",
          "width": 2
         },
         "mode": "lines",
         "name": "T2-4 arrival",
         "type": "scatter",
         "x": [
          22,
          22
         ],
         "y": [
          4,
          7
         ]
        },
        {
         "line": {
          "color": "#AF092F",
          "width": 4
         },
         "mode": "lines",
         "name": "T1",
         "type": "scatter",
         "x": [
          22,
          25
         ],
         "y": [
          7,
          4
         ]
        },
        {
         "line": {
          "color": "#17FCCA",
          "width": 4
         },
         "mode": "lines",
         "name": "T3",
         "type": "scatter",
         "x": [
          25,
          26
         ],
         "y": [
          4,
          3
         ]
        },
        {
         "line": {
          "color": "#28C81B",
          "width": 4
         },
         "mode": "lines",
         "name": "T2",
         "type": "scatter",
         "x": [
          26,
          27
         ],
         "y": [
          3,
          2
         ]
        },
        {
         "line": {
          "color": "#28C81B",
          "dash": "dash",
          "width": 2
         },
         "mode": "lines",
         "name": "T2-5 arrival",
         "type": "scatter",
         "x": [
          27,
          27
         ],
         "y": [
          2,
          5
         ]
        },
        {
         "line": {
          "color": "#28C81B",
          "width": 4
         },
         "mode": "lines",
         "name": "T2",
         "type": "scatter",
         "x": [
          27,
          29
         ],
         "y": [
          5,
          3
         ]
        },
        {
         "line": {
          "color": "#28C81B",
          "width": 4
         },
         "mode": "lines",
         "name": "T2",
         "type": "scatter",
         "x": [
          29,
          32
         ],
         "y": [
          3,
          0
         ]
        },
        {
         "line": {
          "color": "#28C81B",
          "dash": "dash",
          "width": 2
         },
         "mode": "lines",
         "name": "T2-6 arrival",
         "type": "scatter",
         "x": [
          32,
          32
         ],
         "y": [
          0,
          3
         ]
        },
        {
         "line": {
          "color": "#28C81B",
          "width": 4
         },
         "mode": "lines",
         "name": "T2",
         "type": "scatter",
         "x": [
          32,
          35
         ],
         "y": [
          3,
          0
         ]
        },
        {
         "line": {
          "color": "#28C81B",
          "dash": "dash",
          "width": 2
         },
         "mode": "lines",
         "name": "T2-7 arrival",
         "type": "scatter",
         "x": [
          37,
          37
         ],
         "y": [
          0,
          3
         ]
        },
        {
         "line": {
          "color": "#28C81B",
          "width": 4
         },
         "mode": "lines",
         "name": "T2",
         "type": "scatter",
         "x": [
          37,
          40
         ],
         "y": [
          3,
          0
         ]
        },
        {
         "line": {
          "color": "#AF092F",
          "dash": "dash",
          "width": 2
         },
         "mode": "lines",
         "name": "T1-2 arrival",
         "type": "scatter",
         "x": [
          40,
          40
         ],
         "y": [
          0,
          5
         ]
        },
        {
         "line": {
          "color": "#AF092F",
          "width": 4
         },
         "mode": "lines",
         "name": "T1",
         "type": "scatter",
         "x": [
          40,
          40
         ],
         "y": [
          5,
          5
         ]
        },
        {
         "line": {
          "color": "#17FCCA",
          "dash": "dash",
          "width": 2
         },
         "mode": "lines",
         "name": "T3-2 arrival",
         "type": "scatter",
         "x": [
          40,
          40
         ],
         "y": [
          5,
          6
         ]
        },
        {
         "line": {
          "color": "#AF092F",
          "width": 4
         },
         "mode": "lines",
         "name": "T1",
         "type": "scatter",
         "x": [
          40,
          42
         ],
         "y": [
          6,
          4
         ]
        },
        {
         "line": {
          "color": "#28C81B",
          "dash": "dash",
          "width": 2
         },
         "mode": "lines",
         "name": "T2-8 arrival",
         "type": "scatter",
         "x": [
          42,
          42
         ],
         "y": [
          4,
          7
         ]
        },
        {
         "line": {
          "color": "#AF092F",
          "width": 4
         },
         "mode": "lines",
         "name": "T1",
         "type": "scatter",
         "x": [
          42,
          45
         ],
         "y": [
          7,
          4
         ]
        },
        {
         "line": {
          "color": "#17FCCA",
          "width": 4
         },
         "mode": "lines",
         "name": "T3",
         "type": "scatter",
         "x": [
          45,
          46
         ],
         "y": [
          4,
          3
         ]
        },
        {
         "line": {
          "color": "#28C81B",
          "width": 4
         },
         "mode": "lines",
         "name": "T2",
         "type": "scatter",
         "x": [
          46,
          47
         ],
         "y": [
          3,
          2
         ]
        },
        {
         "line": {
          "color": "#28C81B",
          "dash": "dash",
          "width": 2
         },
         "mode": "lines",
         "name": "T2-9 arrival",
         "type": "scatter",
         "x": [
          47,
          47
         ],
         "y": [
          2,
          5
         ]
        },
        {
         "line": {
          "color": "#28C81B",
          "width": 4
         },
         "mode": "lines",
         "name": "T2",
         "type": "scatter",
         "x": [
          47,
          49
         ],
         "y": [
          5,
          3
         ]
        }
       ],
       "layout": {
        "annotations": [
         {
          "arrowhead": 2,
          "ax": 10,
          "ay": -40,
          "bgcolor": "#AF092F",
          "showarrow": true,
          "text": "T2-9",
          "x": 0,
          "y": 0
         },
         {
          "arrowhead": 2,
          "ax": 10,
          "ay": -40,
          "bgcolor": "#17FCCA",
          "showarrow": true,
          "text": "T3-0",
          "x": 0,
          "y": 5
         },
         {
          "arrowhead": 2,
          "ax": 10,
          "ay": -40,
          "bgcolor": "#28C81B",
          "showarrow": true,
          "text": "T2-0",
          "x": 2,
          "y": 4
         },
         {
          "arrowhead": 2,
          "ax": 10,
          "ay": 40,
          "bgcolor": "#AF092F",
          "showarrow": true,
          "text": "T1-0 done",
          "x": 5,
          "y": 4
         },
         {
          "arrowhead": 2,
          "ax": 10,
          "ay": 40,
          "bgcolor": "#17FCCA",
          "showarrow": true,
          "text": "T3-0 done",
          "x": 6,
          "y": 3
         },
         {
          "arrowhead": 2,
          "ax": 10,
          "ay": -40,
          "bgcolor": "#28C81B",
          "showarrow": true,
          "text": "T2-0",
          "x": 7,
          "y": 2
         },
         {
          "arrowhead": 2,
          "ax": 10,
          "ay": 40,
          "bgcolor": "#28C81B",
          "showarrow": true,
          "text": "T2-0 done",
          "x": 9,
          "y": 3
         },
         {
          "arrowhead": 2,
          "ax": 10,
          "ay": 40,
          "bgcolor": "#28C81B",
          "showarrow": true,
          "text": "T2-1 done",
          "x": 12,
          "y": 0
         },
         {
          "arrowhead": 2,
          "ax": 10,
          "ay": -40,
          "bgcolor": "#28C81B",
          "showarrow": true,
          "text": "T2-1",
          "x": 12,
          "y": 0
         },
         {
          "arrowhead": 2,
          "ax": 10,
          "ay": 40,
          "bgcolor": "#28C81B",
          "showarrow": true,
          "text": "T2-2 done",
          "x": 15,
          "y": 0
         },
         {
          "arrowhead": 2,
          "ax": 10,
          "ay": -40,
          "bgcolor": "#28C81B",
          "showarrow": true,
          "text": "T2-2",
          "x": 17,
          "y": 0
         },
         {
          "arrowhead": 2,
          "ax": 10,
          "ay": 40,
          "bgcolor": "#28C81B",
          "showarrow": true,
          "text": "T2-3 done",
          "x": 20,
          "y": 0
         },
         {
          "arrowhead": 2,
          "ax": 10,
          "ay": -40,
          "bgcolor": "#AF092F",
          "showarrow": true,
          "text": "T2-3",
          "x": 20,
          "y": 0
         },
         {
          "arrowhead": 2,
          "ax": 10,
          "ay": -40,
          "bgcolor": "#17FCCA",
          "showarrow": true,
          "text": "T3-1",
          "x": 20,
          "y": 5
         },
         {
          "arrowhead": 2,
          "ax": 10,
          "ay": -40,
          "bgcolor": "#28C81B",
          "showarrow": true,
          "text": "T2-1",
          "x": 22,
          "y": 4
         },
         {
          "arrowhead": 2,
          "ax": 10,
          "ay": 40,
          "bgcolor": "#AF092F",
          "showarrow": true,
          "text": "T1-1 done",
          "x": 25,
          "y": 4
         },
         {
          "arrowhead": 2,
          "ax": 10,
          "ay": 40,
          "bgcolor": "#17FCCA",
          "showarrow": true,
          "text": "T3-1 done",
          "x": 26,
          "y": 3
         },
         {
          "arrowhead": 2,
          "ax": 10,
          "ay": -40,
          "bgcolor": "#28C81B",
          "showarrow": true,
          "text": "T2-4",
          "x": 27,
          "y": 2
         },
         {
          "arrowhead": 2,
          "ax": 10,
          "ay": 40,
          "bgcolor": "#28C81B",
          "showarrow": true,
          "text": "T2-4 done",
          "x": 29,
          "y": 3
         },
         {
          "arrowhead": 2,
          "ax": 10,
          "ay": 40,
          "bgcolor": "#28C81B",
          "showarrow": true,
          "text": "T2-5 done",
          "x": 32,
          "y": 0
         },
         {
          "arrowhead": 2,
          "ax": 10,
          "ay": -40,
          "bgcolor": "#28C81B",
          "showarrow": true,
          "text": "T2-5",
          "x": 32,
          "y": 0
         },
         {
          "arrowhead": 2,
          "ax": 10,
          "ay": 40,
          "bgcolor": "#28C81B",
          "showarrow": true,
          "text": "T2-6 done",
          "x": 35,
          "y": 0
         },
         {
          "arrowhead": 2,
          "ax": 10,
          "ay": -40,
          "bgcolor": "#28C81B",
          "showarrow": true,
          "text": "T2-6",
          "x": 37,
          "y": 0
         },
         {
          "arrowhead": 2,
          "ax": 10,
          "ay": 40,
          "bgcolor": "#28C81B",
          "showarrow": true,
          "text": "T2-7 done",
          "x": 40,
          "y": 0
         },
         {
          "arrowhead": 2,
          "ax": 10,
          "ay": -40,
          "bgcolor": "#AF092F",
          "showarrow": true,
          "text": "T2-7",
          "x": 40,
          "y": 0
         },
         {
          "arrowhead": 2,
          "ax": 10,
          "ay": -40,
          "bgcolor": "#17FCCA",
          "showarrow": true,
          "text": "T3-2",
          "x": 40,
          "y": 5
         },
         {
          "arrowhead": 2,
          "ax": 10,
          "ay": -40,
          "bgcolor": "#28C81B",
          "showarrow": true,
          "text": "T2-2",
          "x": 42,
          "y": 4
         },
         {
          "arrowhead": 2,
          "ax": 10,
          "ay": 40,
          "bgcolor": "#AF092F",
          "showarrow": true,
          "text": "T1-2 done",
          "x": 45,
          "y": 4
         },
         {
          "arrowhead": 2,
          "ax": 10,
          "ay": 40,
          "bgcolor": "#17FCCA",
          "showarrow": true,
          "text": "T3-2 done",
          "x": 46,
          "y": 3
         },
         {
          "arrowhead": 2,
          "ax": 10,
          "ay": -40,
          "bgcolor": "#28C81B",
          "showarrow": true,
          "text": "T2-8",
          "x": 47,
          "y": 2
         },
         {
          "arrowhead": 2,
          "ax": 10,
          "ay": 40,
          "bgcolor": "#28C81B",
          "showarrow": true,
          "text": "T2-8 done",
          "x": 49,
          "y": 3
         }
        ],
        "shapes": [
         {
          "line": {
           "color": "black",
           "width": 1
          },
          "opacity": 0.4,
          "type": "line",
          "x0": 20,
          "x1": 20,
          "xref": "x",
          "y0": 0,
          "y1": 1,
          "yref": "y domain"
         },
         {
          "line": {
           "color": "black",
           "width": 1
          },
          "opacity": 0.4,
          "type": "line",
          "x0": 40,
          "x1": 40,
          "xref": "x",
          "y0": 0,
          "y1": 1,
          "yref": "y domain"
         }
        ],
        "showlegend": true,
        "template": {
         "data": {
          "bar": [
           {
            "error_x": {
             "color": "#2a3f5f"
            },
            "error_y": {
             "color": "#2a3f5f"
            },
            "marker": {
             "line": {
              "color": "#E5ECF6",
              "width": 0.5
             },
             "pattern": {
              "fillmode": "overlay",
              "size": 10,
              "solidity": 0.2
             }
            },
            "type": "bar"
           }
          ],
          "barpolar": [
           {
            "marker": {
             "line": {
              "color": "#E5ECF6",
              "width": 0.5
             },
             "pattern": {
              "fillmode": "overlay",
              "size": 10,
              "solidity": 0.2
             }
            },
            "type": "barpolar"
           }
          ],
          "carpet": [
           {
            "aaxis": {
             "endlinecolor": "#2a3f5f",
             "gridcolor": "white",
             "linecolor": "white",
             "minorgridcolor": "white",
             "startlinecolor": "#2a3f5f"
            },
            "baxis": {
             "endlinecolor": "#2a3f5f",
             "gridcolor": "white",
             "linecolor": "white",
             "minorgridcolor": "white",
             "startlinecolor": "#2a3f5f"
            },
            "type": "carpet"
           }
          ],
          "choropleth": [
           {
            "colorbar": {
             "outlinewidth": 0,
             "ticks": ""
            },
            "type": "choropleth"
           }
          ],
          "contour": [
           {
            "colorbar": {
             "outlinewidth": 0,
             "ticks": ""
            },
            "colorscale": [
             [
              0,
              "#0d0887"
             ],
             [
              0.1111111111111111,
              "#46039f"
             ],
             [
              0.2222222222222222,
              "#7201a8"
             ],
             [
              0.3333333333333333,
              "#9c179e"
             ],
             [
              0.4444444444444444,
              "#bd3786"
             ],
             [
              0.5555555555555556,
              "#d8576b"
             ],
             [
              0.6666666666666666,
              "#ed7953"
             ],
             [
              0.7777777777777778,
              "#fb9f3a"
             ],
             [
              0.8888888888888888,
              "#fdca26"
             ],
             [
              1,
              "#f0f921"
             ]
            ],
            "type": "contour"
           }
          ],
          "contourcarpet": [
           {
            "colorbar": {
             "outlinewidth": 0,
             "ticks": ""
            },
            "type": "contourcarpet"
           }
          ],
          "heatmap": [
           {
            "colorbar": {
             "outlinewidth": 0,
             "ticks": ""
            },
            "colorscale": [
             [
              0,
              "#0d0887"
             ],
             [
              0.1111111111111111,
              "#46039f"
             ],
             [
              0.2222222222222222,
              "#7201a8"
             ],
             [
              0.3333333333333333,
              "#9c179e"
             ],
             [
              0.4444444444444444,
              "#bd3786"
             ],
             [
              0.5555555555555556,
              "#d8576b"
             ],
             [
              0.6666666666666666,
              "#ed7953"
             ],
             [
              0.7777777777777778,
              "#fb9f3a"
             ],
             [
              0.8888888888888888,
              "#fdca26"
             ],
             [
              1,
              "#f0f921"
             ]
            ],
            "type": "heatmap"
           }
          ],
          "histogram": [
           {
            "marker": {
             "pattern": {
              "fillmode": "overlay",
              "size": 10,
              "solidity": 0.2
             }
            },
            "type": "histogram"
           }
          ],
          "histogram2d": [
           {
            "colorbar": {
             "outlinewidth": 0,
             "ticks": ""
            },
            "colorscale": [
             [
              0,
              "#0d0887"
             ],
             [
              0.1111111111111111,
              "#46039f"
             ],
             [
              0.2222222222222222,
              "#7201a8"
             ],
             [
              0.3333333333333333,
              "#9c179e"
             ],
             [
              0.4444444444444444,
              "#bd3786"
             ],
             [
              0.5555555555555556,
              "#d8576b"
             ],
             [
              0.6666666666666666,
              "#ed7953"
             ],
             [
              0.7777777777777778,
              "#fb9f3a"
             ],
             [
              0.8888888888888888,
              "#fdca26"
             ],
             [
              1,
              "#f0f921"
             ]
            ],
            "type": "histogram2d"
           }
          ],
          "histogram2dcontour": [
           {
            "colorbar": {
             "outlinewidth": 0,
             "ticks": ""
            },
            "colorscale": [
             [
              0,
              "#0d0887"
             ],
             [
              0.1111111111111111,
              "#46039f"
             ],
             [
              0.2222222222222222,
              "#7201a8"
             ],
             [
              0.3333333333333333,
              "#9c179e"
             ],
             [
              0.4444444444444444,
              "#bd3786"
             ],
             [
              0.5555555555555556,
              "#d8576b"
             ],
             [
              0.6666666666666666,
              "#ed7953"
             ],
             [
              0.7777777777777778,
              "#fb9f3a"
             ],
             [
              0.8888888888888888,
              "#fdca26"
             ],
             [
              1,
              "#f0f921"
             ]
            ],
            "type": "histogram2dcontour"
           }
          ],
          "mesh3d": [
           {
            "colorbar": {
             "outlinewidth": 0,
             "ticks": ""
            },
            "type": "mesh3d"
           }
          ],
          "parcoords": [
           {
            "line": {
             "colorbar": {
              "outlinewidth": 0,
              "ticks": ""
             }
            },
            "type": "parcoords"
           }
          ],
          "pie": [
           {
            "automargin": true,
            "type": "pie"
           }
          ],
          "scatter": [
           {
            "fillpattern": {
             "fillmode": "overlay",
             "size": 10,
             "solidity": 0.2
            },
            "type": "scatter"
           }
          ],
          "scatter3d": [
           {
            "line": {
             "colorbar": {
              "outlinewidth": 0,
              "ticks": ""
             }
            },
            "marker": {
             "colorbar": {
              "outlinewidth": 0,
              "ticks": ""
             }
            },
            "type": "scatter3d"
           }
          ],
          "scattercarpet": [
           {
            "marker": {
             "colorbar": {
              "outlinewidth": 0,
              "ticks": ""
             }
            },
            "type": "scattercarpet"
           }
          ],
          "scattergeo": [
           {
            "marker": {
             "colorbar": {
              "outlinewidth": 0,
              "ticks": ""
             }
            },
            "type": "scattergeo"
           }
          ],
          "scattergl": [
           {
            "marker": {
             "colorbar": {
              "outlinewidth": 0,
              "ticks": ""
             }
            },
            "type": "scattergl"
           }
          ],
          "scattermap": [
           {
            "marker": {
             "colorbar": {
              "outlinewidth": 0,
              "ticks": ""
             }
            },
            "type": "scattermap"
           }
          ],
          "scattermapbox": [
           {
            "marker": {
             "colorbar": {
              "outlinewidth": 0,
              "ticks": ""
             }
            },
            "type": "scattermapbox"
           }
          ],
          "scatterpolar": [
           {
            "marker": {
             "colorbar": {
              "outlinewidth": 0,
              "ticks": ""
             }
            },
            "type": "scatterpolar"
           }
          ],
          "scatterpolargl": [
           {
            "marker": {
             "colorbar": {
              "outlinewidth": 0,
              "ticks": ""
             }
            },
            "type": "scatterpolargl"
           }
          ],
          "scatterternary": [
           {
            "marker": {
             "colorbar": {
              "outlinewidth": 0,
              "ticks": ""
             }
            },
            "type": "scatterternary"
           }
          ],
          "surface": [
           {
            "colorbar": {
             "outlinewidth": 0,
             "ticks": ""
            },
            "colorscale": [
             [
              0,
              "#0d0887"
             ],
             [
              0.1111111111111111,
              "#46039f"
             ],
             [
              0.2222222222222222,
              "#7201a8"
             ],
             [
              0.3333333333333333,
              "#9c179e"
             ],
             [
              0.4444444444444444,
              "#bd3786"
             ],
             [
              0.5555555555555556,
              "#d8576b"
             ],
             [
              0.6666666666666666,
              "#ed7953"
             ],
             [
              0.7777777777777778,
              "#fb9f3a"
             ],
             [
              0.8888888888888888,
              "#fdca26"
             ],
             [
              1,
              "#f0f921"
             ]
            ],
            "type": "surface"
           }
          ],
          "table": [
           {
            "cells": {
             "fill": {
              "color": "#EBF0F8"
             },
             "line": {
              "color": "white"
             }
            },
            "header": {
             "fill": {
              "color": "#C8D4E3"
             },
             "line": {
              "color": "white"
             }
            },
            "type": "table"
           }
          ]
         },
         "layout": {
          "annotationdefaults": {
           "arrowcolor": "#2a3f5f",
           "arrowhead": 0,
           "arrowwidth": 1
          },
          "autotypenumbers": "strict",
          "coloraxis": {
           "colorbar": {
            "outlinewidth": 0,
            "ticks": ""
           }
          },
          "colorscale": {
           "diverging": [
            [
             0,
             "#8e0152"
            ],
            [
             0.1,
             "#c51b7d"
            ],
            [
             0.2,
             "#de77ae"
            ],
            [
             0.3,
             "#f1b6da"
            ],
            [
             0.4,
             "#fde0ef"
            ],
            [
             0.5,
             "#f7f7f7"
            ],
            [
             0.6,
             "#e6f5d0"
            ],
            [
             0.7,
             "#b8e186"
            ],
            [
             0.8,
             "#7fbc41"
            ],
            [
             0.9,
             "#4d9221"
            ],
            [
             1,
             "#276419"
            ]
           ],
           "sequential": [
            [
             0,
             "#0d0887"
            ],
            [
             0.1111111111111111,
             "#46039f"
            ],
            [
             0.2222222222222222,
             "#7201a8"
            ],
            [
             0.3333333333333333,
             "#9c179e"
            ],
            [
             0.4444444444444444,
             "#bd3786"
            ],
            [
             0.5555555555555556,
             "#d8576b"
            ],
            [
             0.6666666666666666,
             "#ed7953"
            ],
            [
             0.7777777777777778,
             "#fb9f3a"
            ],
            [
             0.8888888888888888,
             "#fdca26"
            ],
            [
             1,
             "#f0f921"
            ]
           ],
           "sequentialminus": [
            [
             0,
             "#0d0887"
            ],
            [
             0.1111111111111111,
             "#46039f"
            ],
            [
             0.2222222222222222,
             "#7201a8"
            ],
            [
             0.3333333333333333,
             "#9c179e"
            ],
            [
             0.4444444444444444,
             "#bd3786"
            ],
            [
             0.5555555555555556,
             "#d8576b"
            ],
            [
             0.6666666666666666,
             "#ed7953"
            ],
            [
             0.7777777777777778,
             "#fb9f3a"
            ],
            [
             0.8888888888888888,
             "#fdca26"
            ],
            [
             1,
             "#f0f921"
            ]
           ]
          },
          "colorway": [
           "#636efa",
           "#EF553B",
           "#00cc96",
           "#ab63fa",
           "#FFA15A",
           "#19d3f3",
           "#FF6692",
           "#B6E880",
           "#FF97FF",
           "#FECB52"
          ],
          "font": {
           "color": "#2a3f5f"
          },
          "geo": {
           "bgcolor": "white",
           "lakecolor": "white",
           "landcolor": "#E5ECF6",
           "showlakes": true,
           "showland": true,
           "subunitcolor": "white"
          },
          "hoverlabel": {
           "align": "left"
          },
          "hovermode": "closest",
          "mapbox": {
           "style": "light"
          },
          "paper_bgcolor": "white",
          "plot_bgcolor": "#E5ECF6",
          "polar": {
           "angularaxis": {
            "gridcolor": "white",
            "linecolor": "white",
            "ticks": ""
           },
           "bgcolor": "#E5ECF6",
           "radialaxis": {
            "gridcolor": "white",
            "linecolor": "white",
            "ticks": ""
           }
          },
          "scene": {
           "xaxis": {
            "backgroundcolor": "#E5ECF6",
            "gridcolor": "white",
            "gridwidth": 2,
            "linecolor": "white",
            "showbackground": true,
            "ticks": "",
            "zerolinecolor": "white"
           },
           "yaxis": {
            "backgroundcolor": "#E5ECF6",
            "gridcolor": "white",
            "gridwidth": 2,
            "linecolor": "white",
            "showbackground": true,
            "ticks": "",
            "zerolinecolor": "white"
           },
           "zaxis": {
            "backgroundcolor": "#E5ECF6",
            "gridcolor": "white",
            "gridwidth": 2,
            "linecolor": "white",
            "showbackground": true,
            "ticks": "",
            "zerolinecolor": "white"
           }
          },
          "shapedefaults": {
           "line": {
            "color": "#2a3f5f"
           }
          },
          "ternary": {
           "aaxis": {
            "gridcolor": "white",
            "linecolor": "white",
            "ticks": ""
           },
           "baxis": {
            "gridcolor": "white",
            "linecolor": "white",
            "ticks": ""
           },
           "bgcolor": "#E5ECF6",
           "caxis": {
            "gridcolor": "white",
            "linecolor": "white",
            "ticks": ""
           }
          },
          "title": {
           "x": 0.05
          },
          "xaxis": {
           "automargin": true,
           "gridcolor": "white",
           "linecolor": "white",
           "ticks": "",
           "title": {
            "standoff": 15
           },
           "zerolinecolor": "white",
           "zerolinewidth": 2
          },
          "yaxis": {
           "automargin": true,
           "gridcolor": "white",
           "linecolor": "white",
           "ticks": "",
           "title": {
            "standoff": 15
           },
           "zerolinecolor": "white",
           "zerolinewidth": 2
          }
         }
        },
        "title": {
         "text": "System Backlog Over Time"
        },
        "xaxis": {
         "title": {
          "text": "Time"
         }
        },
        "yaxis": {
         "title": {
          "text": "Backlog"
         }
        }
       }
      }
     },
     "metadata": {},
     "output_type": "display_data"
    }
   ],
   "source": [
    "interval = 50\n",
    "\n",
    "P = Uniprocessor(policy=\"FIFO\", taskload=taskload)\n",
    "WL = P.get_workload_until(interval)\n",
    "T = get_periodic_tasks_hyperperiod(taskload)\n",
    "PM = PlotManager(WL)\n",
    "myfig = PM.plot_backlog()\n",
    "add_hyperperiod_lines(myfig, T, interval)\n",
    "myfig.show()"
   ]
  },
  {
   "cell_type": "code",
   "execution_count": 4,
   "id": "c7a0a891",
   "metadata": {},
   "outputs": [
    {
     "data": {
      "image/png": "[encoded data removed]",
      "text/plain": [
       "<Figure size 1200x700 with 1 Axes>"
      ]
     },
     "metadata": {},
     "output_type": "display_data"
    },
    {
     "data": {
      "image/png": "[encoded data removed]",
      "text/plain": [
       "<Figure size 1200x910 with 1 Axes>"
      ]
     },
     "metadata": {},
     "output_type": "display_data"
    }
   ],
   "source": [
    "PM.plot_task_timeline(tasks_names_reference=[\"T2\"], relative_to_arrival=False, sort_reverse=True)\n",
    "PM.plot_task_timeline(tasks_names_reference=[\"T1\", \"T2\"], relative_to_arrival=True, sort_reverse=True)  "
   ]
  },
  {
   "cell_type": "markdown",
   "id": "94d4e52d",
   "metadata": {},
   "source": [
    "# Demo for auto-regressive execution time model \n",
    "\n",
    "$$\n",
    "C_{j,i} = C_{theoretical} + \\varepsilon_{j,i}\\\\\n",
    "\\varepsilon_{j,i} = \\rho \\cdot \\varepsilon_{j,i-1} + \\eta_{j,i}\\\\\n",
    "\n",
    "$$"
   ]
  },
  {
   "cell_type": "markdown",
   "id": "d50f8728",
   "metadata": {},
   "source": [
    "## AR1 model\n",
    "\n",
    "- no noise in AR1 sampling\n",
    "- different AR1 for jitter and execution time\n"
   ]
  },
  {
   "cell_type": "code",
   "execution_count": 5,
   "id": "0f090dda",
   "metadata": {},
   "outputs": [],
   "source": [
    "taskload = [\n",
    "  PeriodicTask(\n",
    "    name=\"T1\", \n",
    "    offset=0, \n",
    "    period=5, \n",
    "    priority=1, \n",
    "    base_execution_time=3, \n",
    "    relative_deadline=4, \n",
    "    execution_deviation_distribution=AR1(rho=0.7, x0=2, noise=None),\n",
    "    jitter_distribution=AR1(rho=1.3, x0=1, noise=None),\n",
    "  ),\n",
    "]"
   ]
  },
  {
   "cell_type": "code",
   "execution_count": 6,
   "id": "822b5ecf",
   "metadata": {},
   "outputs": [
    {
     "data": {
      "application/vnd.plotly.v1+json": {
       "config": {
        "plotlyServerURL": "https://plot.ly"
       },
       "data": [
        {
         "line": {
          "color": "#245232",
          "dash": "dash",
          "width": 2
         },
         "mode": "lines",
         "name": "T1-0 arrival",
         "type": "scatter",
         "x": [
          1.3,
          1.3
         ],
         "y": [
          0,
          4.4
         ]
        },
        {
         "line": {
          "color": "#245232",
          "width": 4
         },
         "mode": "lines",
         "name": "T1",
         "type": "scatter",
         "x": [
          1.3,
          5.7
         ],
         "y": [
          4.4,
          0
         ]
        },
        {
         "line": {
          "color": "#245232",
          "dash": "dash",
          "width": 2
         },
         "mode": "lines",
         "name": "T1-1 arrival",
         "type": "scatter",
         "x": [
          6.69,
          6.69
         ],
         "y": [
          0,
          3.98
         ]
        },
        {
         "line": {
          "color": "#245232",
          "width": 4
         },
         "mode": "lines",
         "name": "T1",
         "type": "scatter",
         "x": [
          6.69,
          10.67
         ],
         "y": [
          3.98,
          0
         ]
        },
        {
         "line": {
          "color": "#245232",
          "dash": "dash",
          "width": 2
         },
         "mode": "lines",
         "name": "T1-2 arrival",
         "type": "scatter",
         "x": [
          12.197000000000001,
          12.197000000000001
         ],
         "y": [
          0,
          3.686
         ]
        },
        {
         "line": {
          "color": "#245232",
          "width": 4
         },
         "mode": "lines",
         "name": "T1",
         "type": "scatter",
         "x": [
          12.197000000000001,
          15.883000000000001
         ],
         "y": [
          3.686,
          0
         ]
        },
        {
         "line": {
          "color": "#245232",
          "dash": "dash",
          "width": 2
         },
         "mode": "lines",
         "name": "T1-3 arrival",
         "type": "scatter",
         "x": [
          17.8561,
          17.8561
         ],
         "y": [
          0,
          3.4802
         ]
        },
        {
         "line": {
          "color": "#245232",
          "width": 4
         },
         "mode": "lines",
         "name": "T1",
         "type": "scatter",
         "x": [
          17.8561,
          21.3363
         ],
         "y": [
          3.4802,
          0
         ]
        },
        {
         "line": {
          "color": "#245232",
          "dash": "dash",
          "width": 2
         },
         "mode": "lines",
         "name": "T1-4 arrival",
         "type": "scatter",
         "x": [
          23.71293,
          23.71293
         ],
         "y": [
          0,
          3.33614
         ]
        },
        {
         "line": {
          "color": "#245232",
          "width": 4
         },
         "mode": "lines",
         "name": "T1",
         "type": "scatter",
         "x": [
          23.71293,
          27.04907
         ],
         "y": [
          3.33614,
          0
         ]
        },
        {
         "line": {
          "color": "#245232",
          "dash": "dash",
          "width": 2
         },
         "mode": "lines",
         "name": "T1-5 arrival",
         "type": "scatter",
         "x": [
          29.826809,
          29.826809
         ],
         "y": [
          0,
          3.235298
         ]
        },
        {
         "line": {
          "color": "#245232",
          "width": 4
         },
         "mode": "lines",
         "name": "T1",
         "type": "scatter",
         "x": [
          29.826809,
          33.062107
         ],
         "y": [
          3.235298,
          0
         ]
        },
        {
         "line": {
          "color": "#245232",
          "dash": "dash",
          "width": 2
         },
         "mode": "lines",
         "name": "T1-6 arrival",
         "type": "scatter",
         "x": [
          36.2748517,
          36.2748517
         ],
         "y": [
          0,
          3.1647086
         ]
        },
        {
         "line": {
          "color": "#245232",
          "width": 4
         },
         "mode": "lines",
         "name": "T1",
         "type": "scatter",
         "x": [
          36.2748517,
          39.4395603
         ],
         "y": [
          3.1647086,
          0
         ]
        },
        {
         "line": {
          "color": "#245232",
          "dash": "dash",
          "width": 2
         },
         "mode": "lines",
         "name": "T1-7 arrival",
         "type": "scatter",
         "x": [
          43.157307210000006,
          43.157307210000006
         ],
         "y": [
          0,
          3.1152960199999997
         ]
        },
        {
         "line": {
          "color": "#245232",
          "width": 4
         },
         "mode": "lines",
         "name": "T1",
         "type": "scatter",
         "x": [
          43.157307210000006,
          46.27260323000001
         ],
         "y": [
          3.1152960199999997,
          0
         ]
        }
       ],
       "layout": {
        "annotations": [
         {
          "arrowhead": 2,
          "ax": 10,
          "ay": -40,
          "bgcolor": "#245232",
          "showarrow": true,
          "text": "T1-7",
          "x": 1.3,
          "y": 0
         },
         {
          "arrowhead": 2,
          "ax": 10,
          "ay": 40,
          "bgcolor": "#245232",
          "showarrow": true,
          "text": "T1-0 done",
          "x": 5.7,
          "y": 0
         },
         {
          "arrowhead": 2,
          "ax": 10,
          "ay": -40,
          "bgcolor": "#245232",
          "showarrow": true,
          "text": "T1-0",
          "x": 6.69,
          "y": 0
         },
         {
          "arrowhead": 2,
          "ax": 10,
          "ay": 40,
          "bgcolor": "#245232",
          "showarrow": true,
          "text": "T1-1 done",
          "x": 10.67,
          "y": 0
         },
         {
          "arrowhead": 2,
          "ax": 10,
          "ay": -40,
          "bgcolor": "#245232",
          "showarrow": true,
          "text": "T1-1",
          "x": 12.197000000000001,
          "y": 0
         },
         {
          "arrowhead": 2,
          "ax": 10,
          "ay": 40,
          "bgcolor": "#245232",
          "showarrow": true,
          "text": "T1-2 done",
          "x": 15.883000000000001,
          "y": 0
         },
         {
          "arrowhead": 2,
          "ax": 10,
          "ay": -40,
          "bgcolor": "#245232",
          "showarrow": true,
          "text": "T1-2",
          "x": 17.8561,
          "y": 0
         },
         {
          "arrowhead": 2,
          "ax": 10,
          "ay": 40,
          "bgcolor": "#245232",
          "showarrow": true,
          "text": "T1-3 done",
          "x": 21.3363,
          "y": 0
         },
         {
          "arrowhead": 2,
          "ax": 10,
          "ay": -40,
          "bgcolor": "#245232",
          "showarrow": true,
          "text": "T1-3",
          "x": 23.71293,
          "y": 0
         },
         {
          "arrowhead": 2,
          "ax": 10,
          "ay": 40,
          "bgcolor": "#245232",
          "showarrow": true,
          "text": "T1-4 done",
          "x": 27.04907,
          "y": 0
         },
         {
          "arrowhead": 2,
          "ax": 10,
          "ay": -40,
          "bgcolor": "#245232",
          "showarrow": true,
          "text": "T1-4",
          "x": 29.826809,
          "y": 0
         },
         {
          "arrowhead": 2,
          "ax": 10,
          "ay": 40,
          "bgcolor": "#245232",
          "showarrow": true,
          "text": "T1-5 done",
          "x": 33.062107,
          "y": 0
         },
         {
          "arrowhead": 2,
          "ax": 10,
          "ay": -40,
          "bgcolor": "#245232",
          "showarrow": true,
          "text": "T1-5",
          "x": 36.2748517,
          "y": 0
         },
         {
          "arrowhead": 2,
          "ax": 10,
          "ay": 40,
          "bgcolor": "#245232",
          "showarrow": true,
          "text": "T1-6 done",
          "x": 39.4395603,
          "y": 0
         },
         {
          "arrowhead": 2,
          "ax": 10,
          "ay": -40,
          "bgcolor": "#245232",
          "showarrow": true,
          "text": "T1-6",
          "x": 43.157307210000006,
          "y": 0
         },
         {
          "arrowhead": 2,
          "ax": 10,
          "ay": 40,
          "bgcolor": "#245232",
          "showarrow": true,
          "text": "T1-7 done",
          "x": 46.27260323000001,
          "y": 0
         }
        ],
        "showlegend": true,
        "template": {
         "data": {
          "bar": [
           {
            "error_x": {
             "color": "#2a3f5f"
            },
            "error_y": {
             "color": "#2a3f5f"
            },
            "marker": {
             "line": {
              "color": "#E5ECF6",
              "width": 0.5
             },
             "pattern": {
              "fillmode": "overlay",
              "size": 10,
              "solidity": 0.2
             }
            },
            "type": "bar"
           }
          ],
          "barpolar": [
           {
            "marker": {
             "line": {
              "color": "#E5ECF6",
              "width": 0.5
             },
             "pattern": {
              "fillmode": "overlay",
              "size": 10,
              "solidity": 0.2
             }
            },
            "type": "barpolar"
           }
          ],
          "carpet": [
           {
            "aaxis": {
             "endlinecolor": "#2a3f5f",
             "gridcolor": "white",
             "linecolor": "white",
             "minorgridcolor": "white",
             "startlinecolor": "#2a3f5f"
            },
            "baxis": {
             "endlinecolor": "#2a3f5f",
             "gridcolor": "white",
             "linecolor": "white",
             "minorgridcolor": "white",
             "startlinecolor": "#2a3f5f"
            },
            "type": "carpet"
           }
          ],
          "choropleth": [
           {
            "colorbar": {
             "outlinewidth": 0,
             "ticks": ""
            },
            "type": "choropleth"
           }
          ],
          "contour": [
           {
            "colorbar": {
             "outlinewidth": 0,
             "ticks": ""
            },
            "colorscale": [
             [
              0,
              "#0d0887"
             ],
             [
              0.1111111111111111,
              "#46039f"
             ],
             [
              0.2222222222222222,
              "#7201a8"
             ],
             [
              0.3333333333333333,
              "#9c179e"
             ],
             [
              0.4444444444444444,
              "#bd3786"
             ],
             [
              0.5555555555555556,
              "#d8576b"
             ],
             [
              0.6666666666666666,
              "#ed7953"
             ],
             [
              0.7777777777777778,
              "#fb9f3a"
             ],
             [
              0.8888888888888888,
              "#fdca26"
             ],
             [
              1,
              "#f0f921"
             ]
            ],
            "type": "contour"
           }
          ],
          "contourcarpet": [
           {
            "colorbar": {
             "outlinewidth": 0,
             "ticks": ""
            },
            "type": "contourcarpet"
           }
          ],
          "heatmap": [
           {
            "colorbar": {
             "outlinewidth": 0,
             "ticks": ""
            },
            "colorscale": [
             [
              0,
              "#0d0887"
             ],
             [
              0.1111111111111111,
              "#46039f"
             ],
             [
              0.2222222222222222,
              "#7201a8"
             ],
             [
              0.3333333333333333,
              "#9c179e"
             ],
             [
              0.4444444444444444,
              "#bd3786"
             ],
             [
              0.5555555555555556,
              "#d8576b"
             ],
             [
              0.6666666666666666,
              "#ed7953"
             ],
             [
              0.7777777777777778,
              "#fb9f3a"
             ],
             [
              0.8888888888888888,
              "#fdca26"
             ],
             [
              1,
              "#f0f921"
             ]
            ],
            "type": "heatmap"
           }
          ],
          "histogram": [
           {
            "marker": {
             "pattern": {
              "fillmode": "overlay",
              "size": 10,
              "solidity": 0.2
             }
            },
            "type": "histogram"
           }
          ],
          "histogram2d": [
           {
            "colorbar": {
             "outlinewidth": 0,
             "ticks": ""
            },
            "colorscale": [
             [
              0,
              "#0d0887"
             ],
             [
              0.1111111111111111,
              "#46039f"
             ],
             [
              0.2222222222222222,
              "#7201a8"
             ],
             [
              0.3333333333333333,
              "#9c179e"
             ],
             [
              0.4444444444444444,
              "#bd3786"
             ],
             [
              0.5555555555555556,
              "#d8576b"
             ],
             [
              0.6666666666666666,
              "#ed7953"
             ],
             [
              0.7777777777777778,
              "#fb9f3a"
             ],
             [
              0.8888888888888888,
              "#fdca26"
             ],
             [
              1,
              "#f0f921"
             ]
            ],
            "type": "histogram2d"
           }
          ],
          "histogram2dcontour": [
           {
            "colorbar": {
             "outlinewidth": 0,
             "ticks": ""
            },
            "colorscale": [
             [
              0,
              "#0d0887"
             ],
             [
              0.1111111111111111,
              "#46039f"
             ],
             [
              0.2222222222222222,
              "#7201a8"
             ],
             [
              0.3333333333333333,
              "#9c179e"
             ],
             [
              0.4444444444444444,
              "#bd3786"
             ],
             [
              0.5555555555555556,
              "#d8576b"
             ],
             [
              0.6666666666666666,
              "#ed7953"
             ],
             [
              0.7777777777777778,
              "#fb9f3a"
             ],
             [
              0.8888888888888888,
              "#fdca26"
             ],
             [
              1,
              "#f0f921"
             ]
            ],
            "type": "histogram2dcontour"
           }
          ],
          "mesh3d": [
           {
            "colorbar": {
             "outlinewidth": 0,
             "ticks": ""
            },
            "type": "mesh3d"
           }
          ],
          "parcoords": [
           {
            "line": {
             "colorbar": {
              "outlinewidth": 0,
              "ticks": ""
             }
            },
            "type": "parcoords"
           }
          ],
          "pie": [
           {
            "automargin": true,
            "type": "pie"
           }
          ],
          "scatter": [
           {
            "fillpattern": {
             "fillmode": "overlay",
             "size": 10,
             "solidity": 0.2
            },
            "type": "scatter"
           }
          ],
          "scatter3d": [
           {
            "line": {
             "colorbar": {
              "outlinewidth": 0,
              "ticks": ""
             }
            },
            "marker": {
             "colorbar": {
              "outlinewidth": 0,
              "ticks": ""
             }
            },
            "type": "scatter3d"
           }
          ],
          "scattercarpet": [
           {
            "marker": {
             "colorbar": {
              "outlinewidth": 0,
              "ticks": ""
             }
            },
            "type": "scattercarpet"
           }
          ],
          "scattergeo": [
           {
            "marker": {
             "colorbar": {
              "outlinewidth": 0,
              "ticks": ""
             }
            },
            "type": "scattergeo"
           }
          ],
          "scattergl": [
           {
            "marker": {
             "colorbar": {
              "outlinewidth": 0,
              "ticks": ""
             }
            },
            "type": "scattergl"
           }
          ],
          "scattermap": [
           {
            "marker": {
             "colorbar": {
              "outlinewidth": 0,
              "ticks": ""
             }
            },
            "type": "scattermap"
           }
          ],
          "scattermapbox": [
           {
            "marker": {
             "colorbar": {
              "outlinewidth": 0,
              "ticks": ""
             }
            },
            "type": "scattermapbox"
           }
          ],
          "scatterpolar": [
           {
            "marker": {
             "colorbar": {
              "outlinewidth": 0,
              "ticks": ""
             }
            },
            "type": "scatterpolar"
           }
          ],
          "scatterpolargl": [
           {
            "marker": {
             "colorbar": {
              "outlinewidth": 0,
              "ticks": ""
             }
            },
            "type": "scatterpolargl"
           }
          ],
          "scatterternary": [
           {
            "marker": {
             "colorbar": {
              "outlinewidth": 0,
              "ticks": ""
             }
            },
            "type": "scatterternary"
           }
          ],
          "surface": [
           {
            "colorbar": {
             "outlinewidth": 0,
             "ticks": ""
            },
            "colorscale": [
             [
              0,
              "#0d0887"
             ],
             [
              0.1111111111111111,
              "#46039f"
             ],
             [
              0.2222222222222222,
              "#7201a8"
             ],
             [
              0.3333333333333333,
              "#9c179e"
             ],
             [
              0.4444444444444444,
              "#bd3786"
             ],
             [
              0.5555555555555556,
              "#d8576b"
             ],
             [
              0.6666666666666666,
              "#ed7953"
             ],
             [
              0.7777777777777778,
              "#fb9f3a"
             ],
             [
              0.8888888888888888,
              "#fdca26"
             ],
             [
              1,
              "#f0f921"
             ]
            ],
            "type": "surface"
           }
          ],
          "table": [
           {
            "cells": {
             "fill": {
              "color": "#EBF0F8"
             },
             "line": {
              "color": "white"
             }
            },
            "header": {
             "fill": {
              "color": "#C8D4E3"
             },
             "line": {
              "color": "white"
             }
            },
            "type": "table"
           }
          ]
         },
         "layout": {
          "annotationdefaults": {
           "arrowcolor": "#2a3f5f",
           "arrowhead": 0,
           "arrowwidth": 1
          },
          "autotypenumbers": "strict",
          "coloraxis": {
           "colorbar": {
            "outlinewidth": 0,
            "ticks": ""
           }
          },
          "colorscale": {
           "diverging": [
            [
             0,
             "#8e0152"
            ],
            [
             0.1,
             "#c51b7d"
            ],
            [
             0.2,
             "#de77ae"
            ],
            [
             0.3,
             "#f1b6da"
            ],
            [
             0.4,
             "#fde0ef"
            ],
            [
             0.5,
             "#f7f7f7"
            ],
            [
             0.6,
             "#e6f5d0"
            ],
            [
             0.7,
             "#b8e186"
            ],
            [
             0.8,
             "#7fbc41"
            ],
            [
             0.9,
             "#4d9221"
            ],
            [
             1,
             "#276419"
            ]
           ],
           "sequential": [
            [
             0,
             "#0d0887"
            ],
            [
             0.1111111111111111,
             "#46039f"
            ],
            [
             0.2222222222222222,
             "#7201a8"
            ],
            [
             0.3333333333333333,
             "#9c179e"
            ],
            [
             0.4444444444444444,
             "#bd3786"
            ],
            [
             0.5555555555555556,
             "#d8576b"
            ],
            [
             0.6666666666666666,
             "#ed7953"
            ],
            [
             0.7777777777777778,
             "#fb9f3a"
            ],
            [
             0.8888888888888888,
             "#fdca26"
            ],
            [
             1,
             "#f0f921"
            ]
           ],
           "sequentialminus": [
            [
             0,
             "#0d0887"
            ],
            [
             0.1111111111111111,
             "#46039f"
            ],
            [
             0.2222222222222222,
             "#7201a8"
            ],
            [
             0.3333333333333333,
             "#9c179e"
            ],
            [
             0.4444444444444444,
             "#bd3786"
            ],
            [
             0.5555555555555556,
             "#d8576b"
            ],
            [
             0.6666666666666666,
             "#ed7953"
            ],
            [
             0.7777777777777778,
             "#fb9f3a"
            ],
            [
             0.8888888888888888,
             "#fdca26"
            ],
            [
             1,
             "#f0f921"
            ]
           ]
          },
          "colorway": [
           "#636efa",
           "#EF553B",
           "#00cc96",
           "#ab63fa",
           "#FFA15A",
           "#19d3f3",
           "#FF6692",
           "#B6E880",
           "#FF97FF",
           "#FECB52"
          ],
          "font": {
           "color": "#2a3f5f"
          },
          "geo": {
           "bgcolor": "white",
           "lakecolor": "white",
           "landcolor": "#E5ECF6",
           "showlakes": true,
           "showland": true,
           "subunitcolor": "white"
          },
          "hoverlabel": {
           "align": "left"
          },
          "hovermode": "closest",
          "mapbox": {
           "style": "light"
          },
          "paper_bgcolor": "white",
          "plot_bgcolor": "#E5ECF6",
          "polar": {
           "angularaxis": {
            "gridcolor": "white",
            "linecolor": "white",
            "ticks": ""
           },
           "bgcolor": "#E5ECF6",
           "radialaxis": {
            "gridcolor": "white",
            "linecolor": "white",
            "ticks": ""
           }
          },
          "scene": {
           "xaxis": {
            "backgroundcolor": "#E5ECF6",
            "gridcolor": "white",
            "gridwidth": 2,
            "linecolor": "white",
            "showbackground": true,
            "ticks": "",
            "zerolinecolor": "white"
           },
           "yaxis": {
            "backgroundcolor": "#E5ECF6",
            "gridcolor": "white",
            "gridwidth": 2,
            "linecolor": "white",
            "showbackground": true,
            "ticks": "",
            "zerolinecolor": "white"
           },
           "zaxis": {
            "backgroundcolor": "#E5ECF6",
            "gridcolor": "white",
            "gridwidth": 2,
            "linecolor": "white",
            "showbackground": true,
            "ticks": "",
            "zerolinecolor": "white"
           }
          },
          "shapedefaults": {
           "line": {
            "color": "#2a3f5f"
           }
          },
          "ternary": {
           "aaxis": {
            "gridcolor": "white",
            "linecolor": "white",
            "ticks": ""
           },
           "baxis": {
            "gridcolor": "white",
            "linecolor": "white",
            "ticks": ""
           },
           "bgcolor": "#E5ECF6",
           "caxis": {
            "gridcolor": "white",
            "linecolor": "white",
            "ticks": ""
           }
          },
          "title": {
           "x": 0.05
          },
          "xaxis": {
           "automargin": true,
           "gridcolor": "white",
           "linecolor": "white",
           "ticks": "",
           "title": {
            "standoff": 15
           },
           "zerolinecolor": "white",
           "zerolinewidth": 2
          },
          "yaxis": {
           "automargin": true,
           "gridcolor": "white",
           "linecolor": "white",
           "ticks": "",
           "title": {
            "standoff": 15
           },
           "zerolinecolor": "white",
           "zerolinewidth": 2
          }
         }
        },
        "title": {
         "text": "System Backlog Over Time"
        },
        "xaxis": {
         "title": {
          "text": "Time"
         }
        },
        "yaxis": {
         "title": {
          "text": "Backlog"
         }
        }
       }
      }
     },
     "metadata": {},
     "output_type": "display_data"
    }
   ],
   "source": [
    "interval = 50\n",
    "\n",
    "P = Uniprocessor(policy=\"FIFO\", taskload=taskload)\n",
    "WL = P.get_workload_until(interval)\n",
    "T = get_periodic_tasks_hyperperiod(taskload)\n",
    "PM = PlotManager(WL)\n",
    "myfig = PM.plot_backlog()\n",
    "myfig.show()"
   ]
  },
  {
   "cell_type": "code",
   "execution_count": 7,
   "id": "4e6283e8",
   "metadata": {},
   "outputs": [
    {
     "data": {
      "image/png": "[encoded data removed]",
      "text/plain": [
       "<Figure size 1200x560 with 1 Axes>"
      ]
     },
     "metadata": {},
     "output_type": "display_data"
    },
    {
     "data": {
      "image/png": "[encoded data removed]",
      "text/plain": [
       "<Figure size 1200x560 with 1 Axes>"
      ]
     },
     "metadata": {},
     "output_type": "display_data"
    }
   ],
   "source": [
    "PM.plot_task_timeline(tasks_names_reference=[\"T1\"], relative_to_arrival=True, sort_reverse=True)\n",
    "PM.plot_task_timeline(tasks_names_reference=[\"T1\"], relative_to_arrival=False, sort_reverse=True)"
   ]
  },
  {
   "cell_type": "markdown",
   "id": "5875d5b6",
   "metadata": {},
   "source": [
    "# Pink noise for execution times"
   ]
  },
  {
   "cell_type": "code",
   "execution_count": 28,
   "id": "6f4b905a",
   "metadata": {},
   "outputs": [],
   "source": [
    "taskload = [\n",
    "  PeriodicTask(\n",
    "    name=\"T1\", \n",
    "    offset=0, \n",
    "    period=5, \n",
    "    priority=1, \n",
    "    base_execution_time=3, \n",
    "    relative_deadline=4, \n",
    "    execution_deviation_distribution=ColoredNoise(alpha=1, mean=0, std=0.5),\n",
    "    jitter_distribution=None,\n",
    "  ),\n",
    "]"
   ]
  },
  {
   "cell_type": "code",
   "execution_count": 29,
   "id": "92c2694d",
   "metadata": {},
   "outputs": [
    {
     "data": {
      "application/vnd.plotly.v1+json": {
       "config": {
        "plotlyServerURL": "https://plot.ly"
       },
       "data": [
        {
         "line": {
          "color": "#8CB69F",
          "dash": "dash",
          "width": 2
         },
         "mode": "lines",
         "name": "T1-0 arrival",
         "type": "scatter",
         "x": [
          0,
          0
         ],
         "y": [
          0,
          1.3475560796494213
         ]
        },
        {
         "line": {
          "color": "#8CB69F",
          "width": 4
         },
         "mode": "lines",
         "name": "T1",
         "type": "scatter",
         "x": [
          0,
          1.3475560796494213
         ],
         "y": [
          1.3475560796494213,
          0
         ]
        },
        {
         "line": {
          "color": "#8CB69F",
          "dash": "dash",
          "width": 2
         },
         "mode": "lines",
         "name": "T1-1 arrival",
         "type": "scatter",
         "x": [
          5,
          5
         ],
         "y": [
          0,
          1.681871930021354
         ]
        },
        {
         "line": {
          "color": "#8CB69F",
          "width": 4
         },
         "mode": "lines",
         "name": "T1",
         "type": "scatter",
         "x": [
          5,
          6.681871930021354
         ],
         "y": [
          1.681871930021354,
          0
         ]
        },
        {
         "line": {
          "color": "#8CB69F",
          "dash": "dash",
          "width": 2
         },
         "mode": "lines",
         "name": "T1-2 arrival",
         "type": "scatter",
         "x": [
          10,
          10
         ],
         "y": [
          0,
          0.8967540470332653
         ]
        },
        {
         "line": {
          "color": "#8CB69F",
          "width": 4
         },
         "mode": "lines",
         "name": "T1",
         "type": "scatter",
         "x": [
          10,
          10.896754047033266
         ],
         "y": [
          0.8967540470332653,
          0
         ]
        },
        {
         "line": {
          "color": "#8CB69F",
          "dash": "dash",
          "width": 2
         },
         "mode": "lines",
         "name": "T1-3 arrival",
         "type": "scatter",
         "x": [
          15,
          15
         ],
         "y": [
          0,
          4.2333638640427464
         ]
        },
        {
         "line": {
          "color": "#8CB69F",
          "width": 4
         },
         "mode": "lines",
         "name": "T1",
         "type": "scatter",
         "x": [
          15,
          19.233363864042747
         ],
         "y": [
          4.2333638640427464,
          0
         ]
        },
        {
         "line": {
          "color": "#8CB69F",
          "dash": "dash",
          "width": 2
         },
         "mode": "lines",
         "name": "T1-4 arrival",
         "type": "scatter",
         "x": [
          20,
          20
         ],
         "y": [
          0,
          5.59370394654097
         ]
        },
        {
         "line": {
          "color": "#8CB69F",
          "width": 4
         },
         "mode": "lines",
         "name": "T1",
         "type": "scatter",
         "x": [
          20,
          25
         ],
         "y": [
          5.59370394654097,
          0.5937039465409697
         ]
        },
        {
         "line": {
          "color": "#8CB69F",
          "dash": "dash",
          "width": 2
         },
         "mode": "lines",
         "name": "T1-5 arrival",
         "type": "scatter",
         "x": [
          25,
          25
         ],
         "y": [
          0.5937039465409697,
          4.73154799081795
         ]
        },
        {
         "line": {
          "color": "#8CB69F",
          "width": 4
         },
         "mode": "lines",
         "name": "T1",
         "type": "scatter",
         "x": [
          25,
          25.59370394654097
         ],
         "y": [
          4.73154799081795,
          4.137844044276981
         ]
        },
        {
         "line": {
          "color": "#8CB69F",
          "width": 4
         },
         "mode": "lines",
         "name": "T1",
         "type": "scatter",
         "x": [
          25.59370394654097,
          29.73154799081795
         ],
         "y": [
          4.137844044276981,
          0
         ]
        },
        {
         "line": {
          "color": "#8CB69F",
          "dash": "dash",
          "width": 2
         },
         "mode": "lines",
         "name": "T1-6 arrival",
         "type": "scatter",
         "x": [
          30,
          30
         ],
         "y": [
          0,
          5.162306723491183
         ]
        },
        {
         "line": {
          "color": "#8CB69F",
          "width": 4
         },
         "mode": "lines",
         "name": "T1",
         "type": "scatter",
         "x": [
          30,
          35
         ],
         "y": [
          5.162306723491183,
          0.16230672349118258
         ]
        },
        {
         "line": {
          "color": "#8CB69F",
          "dash": "dash",
          "width": 2
         },
         "mode": "lines",
         "name": "T1-7 arrival",
         "type": "scatter",
         "x": [
          35,
          35
         ],
         "y": [
          0.16230672349118258,
          1.1899265329436162
         ]
        },
        {
         "line": {
          "color": "#8CB69F",
          "width": 4
         },
         "mode": "lines",
         "name": "T1",
         "type": "scatter",
         "x": [
          35,
          35.162306723491184
         ],
         "y": [
          1.1899265329436162,
          1.0276198094524336
         ]
        },
        {
         "line": {
          "color": "#8CB69F",
          "width": 4
         },
         "mode": "lines",
         "name": "T1",
         "type": "scatter",
         "x": [
          35.162306723491184,
          36.189926532943616
         ],
         "y": [
          1.0276198094524336,
          0
         ]
        },
        {
         "line": {
          "color": "#8CB69F",
          "dash": "dash",
          "width": 2
         },
         "mode": "lines",
         "name": "T1-8 arrival",
         "type": "scatter",
         "x": [
          40,
          40
         ],
         "y": [
          0,
          2.4450131040647065
         ]
        },
        {
         "line": {
          "color": "#8CB69F",
          "width": 4
         },
         "mode": "lines",
         "name": "T1",
         "type": "scatter",
         "x": [
          40,
          42.44501310406471
         ],
         "y": [
          2.4450131040647065,
          0
         ]
        },
        {
         "line": {
          "color": "#8CB69F",
          "dash": "dash",
          "width": 2
         },
         "mode": "lines",
         "name": "T1-9 arrival",
         "type": "scatter",
         "x": [
          45,
          45
         ],
         "y": [
          0,
          3.562489019409372
         ]
        },
        {
         "line": {
          "color": "#8CB69F",
          "width": 4
         },
         "mode": "lines",
         "name": "T1",
         "type": "scatter",
         "x": [
          45,
          48.56248901940937
         ],
         "y": [
          3.562489019409372,
          0
         ]
        }
       ],
       "layout": {
        "annotations": [
         {
          "arrowhead": 2,
          "ax": 10,
          "ay": -40,
          "bgcolor": "#8CB69F",
          "showarrow": true,
          "text": "T1-9",
          "x": 0,
          "y": 0
         },
         {
          "arrowhead": 2,
          "ax": 10,
          "ay": 40,
          "bgcolor": "#8CB69F",
          "showarrow": true,
          "text": "T1-0 done",
          "x": 1.3475560796494213,
          "y": 0
         },
         {
          "arrowhead": 2,
          "ax": 10,
          "ay": -40,
          "bgcolor": "#8CB69F",
          "showarrow": true,
          "text": "T1-0",
          "x": 5,
          "y": 0
         },
         {
          "arrowhead": 2,
          "ax": 10,
          "ay": 40,
          "bgcolor": "#8CB69F",
          "showarrow": true,
          "text": "T1-1 done",
          "x": 6.681871930021354,
          "y": 0
         },
         {
          "arrowhead": 2,
          "ax": 10,
          "ay": -40,
          "bgcolor": "#8CB69F",
          "showarrow": true,
          "text": "T1-1",
          "x": 10,
          "y": 0
         },
         {
          "arrowhead": 2,
          "ax": 10,
          "ay": 40,
          "bgcolor": "#8CB69F",
          "showarrow": true,
          "text": "T1-2 done",
          "x": 10.896754047033266,
          "y": 0
         },
         {
          "arrowhead": 2,
          "ax": 10,
          "ay": -40,
          "bgcolor": "#8CB69F",
          "showarrow": true,
          "text": "T1-2",
          "x": 15,
          "y": 0
         },
         {
          "arrowhead": 2,
          "ax": 10,
          "ay": 40,
          "bgcolor": "#8CB69F",
          "showarrow": true,
          "text": "T1-3 done",
          "x": 19.233363864042747,
          "y": 0
         },
         {
          "arrowhead": 2,
          "ax": 10,
          "ay": -40,
          "bgcolor": "#8CB69F",
          "showarrow": true,
          "text": "T1-3",
          "x": 20,
          "y": 0
         },
         {
          "arrowhead": 2,
          "ax": 10,
          "ay": -40,
          "bgcolor": "#8CB69F",
          "showarrow": true,
          "text": "T1-4",
          "x": 25,
          "y": 0.5937039465409697
         },
         {
          "arrowhead": 2,
          "ax": 10,
          "ay": 40,
          "bgcolor": "#8CB69F",
          "showarrow": true,
          "text": "T1-4 done",
          "x": 25.59370394654097,
          "y": 4.137844044276981
         },
         {
          "arrowhead": 2,
          "ax": 10,
          "ay": 40,
          "bgcolor": "#8CB69F",
          "showarrow": true,
          "text": "T1-5 done",
          "x": 29.73154799081795,
          "y": 0
         },
         {
          "arrowhead": 2,
          "ax": 10,
          "ay": -40,
          "bgcolor": "#8CB69F",
          "showarrow": true,
          "text": "T1-5",
          "x": 30,
          "y": 0
         },
         {
          "arrowhead": 2,
          "ax": 10,
          "ay": -40,
          "bgcolor": "#8CB69F",
          "showarrow": true,
          "text": "T1-6",
          "x": 35,
          "y": 0.16230672349118258
         },
         {
          "arrowhead": 2,
          "ax": 10,
          "ay": 40,
          "bgcolor": "#8CB69F",
          "showarrow": true,
          "text": "T1-6 done",
          "x": 35.162306723491184,
          "y": 1.0276198094524336
         },
         {
          "arrowhead": 2,
          "ax": 10,
          "ay": 40,
          "bgcolor": "#8CB69F",
          "showarrow": true,
          "text": "T1-7 done",
          "x": 36.189926532943616,
          "y": 0
         },
         {
          "arrowhead": 2,
          "ax": 10,
          "ay": -40,
          "bgcolor": "#8CB69F",
          "showarrow": true,
          "text": "T1-7",
          "x": 40,
          "y": 0
         },
         {
          "arrowhead": 2,
          "ax": 10,
          "ay": 40,
          "bgcolor": "#8CB69F",
          "showarrow": true,
          "text": "T1-8 done",
          "x": 42.44501310406471,
          "y": 0
         },
         {
          "arrowhead": 2,
          "ax": 10,
          "ay": -40,
          "bgcolor": "#8CB69F",
          "showarrow": true,
          "text": "T1-8",
          "x": 45,
          "y": 0
         },
         {
          "arrowhead": 2,
          "ax": 10,
          "ay": 40,
          "bgcolor": "#8CB69F",
          "showarrow": true,
          "text": "T1-9 done",
          "x": 48.56248901940937,
          "y": 0
         }
        ],
        "showlegend": true,
        "template": {
         "data": {
          "bar": [
           {
            "error_x": {
             "color": "#2a3f5f"
            },
            "error_y": {
             "color": "#2a3f5f"
            },
            "marker": {
             "line": {
              "color": "#E5ECF6",
              "width": 0.5
             },
             "pattern": {
              "fillmode": "overlay",
              "size": 10,
              "solidity": 0.2
             }
            },
            "type": "bar"
           }
          ],
          "barpolar": [
           {
            "marker": {
             "line": {
              "color": "#E5ECF6",
              "width": 0.5
             },
             "pattern": {
              "fillmode": "overlay",
              "size": 10,
              "solidity": 0.2
             }
            },
            "type": "barpolar"
           }
          ],
          "carpet": [
           {
            "aaxis": {
             "endlinecolor": "#2a3f5f",
             "gridcolor": "white",
             "linecolor": "white",
             "minorgridcolor": "white",
             "startlinecolor": "#2a3f5f"
            },
            "baxis": {
             "endlinecolor": "#2a3f5f",
             "gridcolor": "white",
             "linecolor": "white",
             "minorgridcolor": "white",
             "startlinecolor": "#2a3f5f"
            },
            "type": "carpet"
           }
          ],
          "choropleth": [
           {
            "colorbar": {
             "outlinewidth": 0,
             "ticks": ""
            },
            "type": "choropleth"
           }
          ],
          "contour": [
           {
            "colorbar": {
             "outlinewidth": 0,
             "ticks": ""
            },
            "colorscale": [
             [
              0,
              "#0d0887"
             ],
             [
              0.1111111111111111,
              "#46039f"
             ],
             [
              0.2222222222222222,
              "#7201a8"
             ],
             [
              0.3333333333333333,
              "#9c179e"
             ],
             [
              0.4444444444444444,
              "#bd3786"
             ],
             [
              0.5555555555555556,
              "#d8576b"
             ],
             [
              0.6666666666666666,
              "#ed7953"
             ],
             [
              0.7777777777777778,
              "#fb9f3a"
             ],
             [
              0.8888888888888888,
              "#fdca26"
             ],
             [
              1,
              "#f0f921"
             ]
            ],
            "type": "contour"
           }
          ],
          "contourcarpet": [
           {
            "colorbar": {
             "outlinewidth": 0,
             "ticks": ""
            },
            "type": "contourcarpet"
           }
          ],
          "heatmap": [
           {
            "colorbar": {
             "outlinewidth": 0,
             "ticks": ""
            },
            "colorscale": [
             [
              0,
              "#0d0887"
             ],
             [
              0.1111111111111111,
              "#46039f"
             ],
             [
              0.2222222222222222,
              "#7201a8"
             ],
             [
              0.3333333333333333,
              "#9c179e"
             ],
             [
              0.4444444444444444,
              "#bd3786"
             ],
             [
              0.5555555555555556,
              "#d8576b"
             ],
             [
              0.6666666666666666,
              "#ed7953"
             ],
             [
              0.7777777777777778,
              "#fb9f3a"
             ],
             [
              0.8888888888888888,
              "#fdca26"
             ],
             [
              1,
              "#f0f921"
             ]
            ],
            "type": "heatmap"
           }
          ],
          "histogram": [
           {
            "marker": {
             "pattern": {
              "fillmode": "overlay",
              "size": 10,
              "solidity": 0.2
             }
            },
            "type": "histogram"
           }
          ],
          "histogram2d": [
           {
            "colorbar": {
             "outlinewidth": 0,
             "ticks": ""
            },
            "colorscale": [
             [
              0,
              "#0d0887"
             ],
             [
              0.1111111111111111,
              "#46039f"
             ],
             [
              0.2222222222222222,
              "#7201a8"
             ],
             [
              0.3333333333333333,
              "#9c179e"
             ],
             [
              0.4444444444444444,
              "#bd3786"
             ],
             [
              0.5555555555555556,
              "#d8576b"
             ],
             [
              0.6666666666666666,
              "#ed7953"
             ],
             [
              0.7777777777777778,
              "#fb9f3a"
             ],
             [
              0.8888888888888888,
              "#fdca26"
             ],
             [
              1,
              "#f0f921"
             ]
            ],
            "type": "histogram2d"
           }
          ],
          "histogram2dcontour": [
           {
            "colorbar": {
             "outlinewidth": 0,
             "ticks": ""
            },
            "colorscale": [
             [
              0,
              "#0d0887"
             ],
             [
              0.1111111111111111,
              "#46039f"
             ],
             [
              0.2222222222222222,
              "#7201a8"
             ],
             [
              0.3333333333333333,
              "#9c179e"
             ],
             [
              0.4444444444444444,
              "#bd3786"
             ],
             [
              0.5555555555555556,
              "#d8576b"
             ],
             [
              0.6666666666666666,
              "#ed7953"
             ],
             [
              0.7777777777777778,
              "#fb9f3a"
             ],
             [
              0.8888888888888888,
              "#fdca26"
             ],
             [
              1,
              "#f0f921"
             ]
            ],
            "type": "histogram2dcontour"
           }
          ],
          "mesh3d": [
           {
            "colorbar": {
             "outlinewidth": 0,
             "ticks": ""
            },
            "type": "mesh3d"
           }
          ],
          "parcoords": [
           {
            "line": {
             "colorbar": {
              "outlinewidth": 0,
              "ticks": ""
             }
            },
            "type": "parcoords"
           }
          ],
          "pie": [
           {
            "automargin": true,
            "type": "pie"
           }
          ],
          "scatter": [
           {
            "fillpattern": {
             "fillmode": "overlay",
             "size": 10,
             "solidity": 0.2
            },
            "type": "scatter"
           }
          ],
          "scatter3d": [
           {
            "line": {
             "colorbar": {
              "outlinewidth": 0,
              "ticks": ""
             }
            },
            "marker": {
             "colorbar": {
              "outlinewidth": 0,
              "ticks": ""
             }
            },
            "type": "scatter3d"
           }
          ],
          "scattercarpet": [
           {
            "marker": {
             "colorbar": {
              "outlinewidth": 0,
              "ticks": ""
             }
            },
            "type": "scattercarpet"
           }
          ],
          "scattergeo": [
           {
            "marker": {
             "colorbar": {
              "outlinewidth": 0,
              "ticks": ""
             }
            },
            "type": "scattergeo"
           }
          ],
          "scattergl": [
           {
            "marker": {
             "colorbar": {
              "outlinewidth": 0,
              "ticks": ""
             }
            },
            "type": "scattergl"
           }
          ],
          "scattermap": [
           {
            "marker": {
             "colorbar": {
              "outlinewidth": 0,
              "ticks": ""
             }
            },
            "type": "scattermap"
           }
          ],
          "scattermapbox": [
           {
            "marker": {
             "colorbar": {
              "outlinewidth": 0,
              "ticks": ""
             }
            },
            "type": "scattermapbox"
           }
          ],
          "scatterpolar": [
           {
            "marker": {
             "colorbar": {
              "outlinewidth": 0,
              "ticks": ""
             }
            },
            "type": "scatterpolar"
           }
          ],
          "scatterpolargl": [
           {
            "marker": {
             "colorbar": {
              "outlinewidth": 0,
              "ticks": ""
             }
            },
            "type": "scatterpolargl"
           }
          ],
          "scatterternary": [
           {
            "marker": {
             "colorbar": {
              "outlinewidth": 0,
              "ticks": ""
             }
            },
            "type": "scatterternary"
           }
          ],
          "surface": [
           {
            "colorbar": {
             "outlinewidth": 0,
             "ticks": ""
            },
            "colorscale": [
             [
              0,
              "#0d0887"
             ],
             [
              0.1111111111111111,
              "#46039f"
             ],
             [
              0.2222222222222222,
              "#7201a8"
             ],
             [
              0.3333333333333333,
              "#9c179e"
             ],
             [
              0.4444444444444444,
              "#bd3786"
             ],
             [
              0.5555555555555556,
              "#d8576b"
             ],
             [
              0.6666666666666666,
              "#ed7953"
             ],
             [
              0.7777777777777778,
              "#fb9f3a"
             ],
             [
              0.8888888888888888,
              "#fdca26"
             ],
             [
              1,
              "#f0f921"
             ]
            ],
            "type": "surface"
           }
          ],
          "table": [
           {
            "cells": {
             "fill": {
              "color": "#EBF0F8"
             },
             "line": {
              "color": "white"
             }
            },
            "header": {
             "fill": {
              "color": "#C8D4E3"
             },
             "line": {
              "color": "white"
             }
            },
            "type": "table"
           }
          ]
         },
         "layout": {
          "annotationdefaults": {
           "arrowcolor": "#2a3f5f",
           "arrowhead": 0,
           "arrowwidth": 1
          },
          "autotypenumbers": "strict",
          "coloraxis": {
           "colorbar": {
            "outlinewidth": 0,
            "ticks": ""
           }
          },
          "colorscale": {
           "diverging": [
            [
             0,
             "#8e0152"
            ],
            [
             0.1,
             "#c51b7d"
            ],
            [
             0.2,
             "#de77ae"
            ],
            [
             0.3,
             "#f1b6da"
            ],
            [
             0.4,
             "#fde0ef"
            ],
            [
             0.5,
             "#f7f7f7"
            ],
            [
             0.6,
             "#e6f5d0"
            ],
            [
             0.7,
             "#b8e186"
            ],
            [
             0.8,
             "#7fbc41"
            ],
            [
             0.9,
             "#4d9221"
            ],
            [
             1,
             "#276419"
            ]
           ],
           "sequential": [
            [
             0,
             "#0d0887"
            ],
            [
             0.1111111111111111,
             "#46039f"
            ],
            [
             0.2222222222222222,
             "#7201a8"
            ],
            [
             0.3333333333333333,
             "#9c179e"
            ],
            [
             0.4444444444444444,
             "#bd3786"
            ],
            [
             0.5555555555555556,
             "#d8576b"
            ],
            [
             0.6666666666666666,
             "#ed7953"
            ],
            [
             0.7777777777777778,
             "#fb9f3a"
            ],
            [
             0.8888888888888888,
             "#fdca26"
            ],
            [
             1,
             "#f0f921"
            ]
           ],
           "sequentialminus": [
            [
             0,
             "#0d0887"
            ],
            [
             0.1111111111111111,
             "#46039f"
            ],
            [
             0.2222222222222222,
             "#7201a8"
            ],
            [
             0.3333333333333333,
             "#9c179e"
            ],
            [
             0.4444444444444444,
             "#bd3786"
            ],
            [
             0.5555555555555556,
             "#d8576b"
            ],
            [
             0.6666666666666666,
             "#ed7953"
            ],
            [
             0.7777777777777778,
             "#fb9f3a"
            ],
            [
             0.8888888888888888,
             "#fdca26"
            ],
            [
             1,
             "#f0f921"
            ]
           ]
          },
          "colorway": [
           "#636efa",
           "#EF553B",
           "#00cc96",
           "#ab63fa",
           "#FFA15A",
           "#19d3f3",
           "#FF6692",
           "#B6E880",
           "#FF97FF",
           "#FECB52"
          ],
          "font": {
           "color": "#2a3f5f"
          },
          "geo": {
           "bgcolor": "white",
           "lakecolor": "white",
           "landcolor": "#E5ECF6",
           "showlakes": true,
           "showland": true,
           "subunitcolor": "white"
          },
          "hoverlabel": {
           "align": "left"
          },
          "hovermode": "closest",
          "mapbox": {
           "style": "light"
          },
          "paper_bgcolor": "white",
          "plot_bgcolor": "#E5ECF6",
          "polar": {
           "angularaxis": {
            "gridcolor": "white",
            "linecolor": "white",
            "ticks": ""
           },
           "bgcolor": "#E5ECF6",
           "radialaxis": {
            "gridcolor": "white",
            "linecolor": "white",
            "ticks": ""
           }
          },
          "scene": {
           "xaxis": {
            "backgroundcolor": "#E5ECF6",
            "gridcolor": "white",
            "gridwidth": 2,
            "linecolor": "white",
            "showbackground": true,
            "ticks": "",
            "zerolinecolor": "white"
           },
           "yaxis": {
            "backgroundcolor": "#E5ECF6",
            "gridcolor": "white",
            "gridwidth": 2,
            "linecolor": "white",
            "showbackground": true,
            "ticks": "",
            "zerolinecolor": "white"
           },
           "zaxis": {
            "backgroundcolor": "#E5ECF6",
            "gridcolor": "white",
            "gridwidth": 2,
            "linecolor": "white",
            "showbackground": true,
            "ticks": "",
            "zerolinecolor": "white"
           }
          },
          "shapedefaults": {
           "line": {
            "color": "#2a3f5f"
           }
          },
          "ternary": {
           "aaxis": {
            "gridcolor": "white",
            "linecolor": "white",
            "ticks": ""
           },
           "baxis": {
            "gridcolor": "white",
            "linecolor": "white",
            "ticks": ""
           },
           "bgcolor": "#E5ECF6",
           "caxis": {
            "gridcolor": "white",
            "linecolor": "white",
            "ticks": ""
           }
          },
          "title": {
           "x": 0.05
          },
          "xaxis": {
           "automargin": true,
           "gridcolor": "white",
           "linecolor": "white",
           "ticks": "",
           "title": {
            "standoff": 15
           },
           "zerolinecolor": "white",
           "zerolinewidth": 2
          },
          "yaxis": {
           "automargin": true,
           "gridcolor": "white",
           "linecolor": "white",
           "ticks": "",
           "title": {
            "standoff": 15
           },
           "zerolinecolor": "white",
           "zerolinewidth": 2
          }
         }
        },
        "title": {
         "text": "System Backlog Over Time"
        },
        "xaxis": {
         "title": {
          "text": "Time"
         }
        },
        "yaxis": {
         "title": {
          "text": "Backlog"
         }
        }
       }
      }
     },
     "metadata": {},
     "output_type": "display_data"
    }
   ],
   "source": [
    "interval = 50\n",
    "\n",
    "P = Uniprocessor(policy=\"FIFO\", taskload=taskload)\n",
    "WL = P.get_workload_until(interval)\n",
    "T = get_periodic_tasks_hyperperiod(taskload)\n",
    "PM = PlotManager(WL)\n",
    "myfig = PM.plot_backlog()\n",
    "myfig.show()"
   ]
  },
  {
   "cell_type": "code",
   "execution_count": 30,
   "id": "2ab0db12",
   "metadata": {},
   "outputs": [
    {
     "data": {
      "image/png": "[encoded data removed]",
      "text/plain": [
       "<Figure size 1200x700 with 1 Axes>"
      ]
     },
     "metadata": {},
     "output_type": "display_data"
    }
   ],
   "source": [
    "PM.plot_task_timeline(tasks_names_reference=[\"T1\"], relative_to_arrival=False, sort_reverse=True)"
   ]
  },
  {
   "cell_type": "markdown",
   "id": "489fcb5d",
   "metadata": {},
   "source": [
    "# Discrete distribution for execution times and jitters"
   ]
  },
  {
   "cell_type": "code",
   "execution_count": 31,
   "id": "4af4ea78",
   "metadata": {},
   "outputs": [],
   "source": [
    "taskload = [\n",
    "  PeriodicTask(\n",
    "    name=\"T1\", \n",
    "    offset=0, \n",
    "    period=5, \n",
    "    priority=1, \n",
    "    base_execution_time=3, \n",
    "    relative_deadline=4, \n",
    "    execution_deviation_distribution=Discrete({0: 0.3, 1: 0.5, 5: 0.2}),\n",
    "    jitter_distribution=Discrete({0: 0.3, 0.5: 0.5, 1: 0.2}),\n",
    "  ),\n",
    "]"
   ]
  },
  {
   "cell_type": "code",
   "execution_count": 32,
   "id": "a0e85713",
   "metadata": {},
   "outputs": [
    {
     "data": {
      "application/vnd.plotly.v1+json": {
       "config": {
        "plotlyServerURL": "https://plot.ly"
       },
       "data": [
        {
         "line": {
          "color": "#06C3A4",
          "dash": "dash",
          "width": 2
         },
         "mode": "lines",
         "name": "T1-0 arrival",
         "type": "scatter",
         "x": [
          0,
          0
         ],
         "y": [
          0,
          3
         ]
        },
        {
         "line": {
          "color": "#06C3A4",
          "width": 4
         },
         "mode": "lines",
         "name": "T1",
         "type": "scatter",
         "x": [
          0,
          3
         ],
         "y": [
          3,
          0
         ]
        },
        {
         "line": {
          "color": "#06C3A4",
          "dash": "dash",
          "width": 2
         },
         "mode": "lines",
         "name": "T1-1 arrival",
         "type": "scatter",
         "x": [
          5.5,
          5.5
         ],
         "y": [
          0,
          8
         ]
        },
        {
         "line": {
          "color": "#06C3A4",
          "width": 4
         },
         "mode": "lines",
         "name": "T1",
         "type": "scatter",
         "x": [
          5.5,
          11
         ],
         "y": [
          8,
          2.5
         ]
        },
        {
         "line": {
          "color": "#06C3A4",
          "dash": "dash",
          "width": 2
         },
         "mode": "lines",
         "name": "T1-2 arrival",
         "type": "scatter",
         "x": [
          11,
          11
         ],
         "y": [
          2.5,
          10.5
         ]
        },
        {
         "line": {
          "color": "#06C3A4",
          "width": 4
         },
         "mode": "lines",
         "name": "T1",
         "type": "scatter",
         "x": [
          11,
          13.5
         ],
         "y": [
          10.5,
          8
         ]
        },
        {
         "line": {
          "color": "#06C3A4",
          "width": 4
         },
         "mode": "lines",
         "name": "T1",
         "type": "scatter",
         "x": [
          13.5,
          15.5
         ],
         "y": [
          8,
          6
         ]
        },
        {
         "line": {
          "color": "#06C3A4",
          "dash": "dash",
          "width": 2
         },
         "mode": "lines",
         "name": "T1-3 arrival",
         "type": "scatter",
         "x": [
          15.5,
          15.5
         ],
         "y": [
          6,
          14
         ]
        },
        {
         "line": {
          "color": "#06C3A4",
          "width": 4
         },
         "mode": "lines",
         "name": "T1",
         "type": "scatter",
         "x": [
          15.5,
          20.5
         ],
         "y": [
          14,
          9
         ]
        },
        {
         "line": {
          "color": "#06C3A4",
          "dash": "dash",
          "width": 2
         },
         "mode": "lines",
         "name": "T1-4 arrival",
         "type": "scatter",
         "x": [
          20.5,
          20.5
         ],
         "y": [
          9,
          13
         ]
        },
        {
         "line": {
          "color": "#06C3A4",
          "width": 4
         },
         "mode": "lines",
         "name": "T1",
         "type": "scatter",
         "x": [
          20.5,
          21.5
         ],
         "y": [
          13,
          12
         ]
        },
        {
         "line": {
          "color": "#06C3A4",
          "width": 4
         },
         "mode": "lines",
         "name": "T1",
         "type": "scatter",
         "x": [
          21.5,
          25
         ],
         "y": [
          12,
          8.5
         ]
        },
        {
         "line": {
          "color": "#06C3A4",
          "dash": "dash",
          "width": 2
         },
         "mode": "lines",
         "name": "T1-5 arrival",
         "type": "scatter",
         "x": [
          25,
          25
         ],
         "y": [
          8.5,
          11.5
         ]
        },
        {
         "line": {
          "color": "#06C3A4",
          "width": 4
         },
         "mode": "lines",
         "name": "T1",
         "type": "scatter",
         "x": [
          25,
          29.5
         ],
         "y": [
          11.5,
          7
         ]
        },
        {
         "line": {
          "color": "#06C3A4",
          "width": 4
         },
         "mode": "lines",
         "name": "T1",
         "type": "scatter",
         "x": [
          29.5,
          30.5
         ],
         "y": [
          7,
          6
         ]
        },
        {
         "line": {
          "color": "#06C3A4",
          "dash": "dash",
          "width": 2
         },
         "mode": "lines",
         "name": "T1-6 arrival",
         "type": "scatter",
         "x": [
          30.5,
          30.5
         ],
         "y": [
          6,
          10
         ]
        },
        {
         "line": {
          "color": "#06C3A4",
          "width": 4
         },
         "mode": "lines",
         "name": "T1",
         "type": "scatter",
         "x": [
          30.5,
          33.5
         ],
         "y": [
          10,
          7
         ]
        },
        {
         "line": {
          "color": "#06C3A4",
          "width": 4
         },
         "mode": "lines",
         "name": "T1",
         "type": "scatter",
         "x": [
          33.5,
          36
         ],
         "y": [
          7,
          4.5
         ]
        },
        {
         "line": {
          "color": "#06C3A4",
          "dash": "dash",
          "width": 2
         },
         "mode": "lines",
         "name": "T1-7 arrival",
         "type": "scatter",
         "x": [
          36,
          36
         ],
         "y": [
          4.5,
          8.5
         ]
        },
        {
         "line": {
          "color": "#06C3A4",
          "width": 4
         },
         "mode": "lines",
         "name": "T1",
         "type": "scatter",
         "x": [
          36,
          36.5
         ],
         "y": [
          8.5,
          8
         ]
        },
        {
         "line": {
          "color": "#06C3A4",
          "width": 4
         },
         "mode": "lines",
         "name": "T1",
         "type": "scatter",
         "x": [
          36.5,
          40.5
         ],
         "y": [
          8,
          4
         ]
        },
        {
         "line": {
          "color": "#06C3A4",
          "width": 4
         },
         "mode": "lines",
         "name": "T1",
         "type": "scatter",
         "x": [
          40.5,
          40.5
         ],
         "y": [
          4,
          4
         ]
        },
        {
         "line": {
          "color": "#06C3A4",
          "dash": "dash",
          "width": 2
         },
         "mode": "lines",
         "name": "T1-8 arrival",
         "type": "scatter",
         "x": [
          40.5,
          40.5
         ],
         "y": [
          4,
          7
         ]
        },
        {
         "line": {
          "color": "#06C3A4",
          "width": 4
         },
         "mode": "lines",
         "name": "T1",
         "type": "scatter",
         "x": [
          40.5,
          44.5
         ],
         "y": [
          7,
          3
         ]
        },
        {
         "line": {
          "color": "#06C3A4",
          "width": 4
         },
         "mode": "lines",
         "name": "T1",
         "type": "scatter",
         "x": [
          44.5,
          45
         ],
         "y": [
          3,
          2.5
         ]
        },
        {
         "line": {
          "color": "#06C3A4",
          "dash": "dash",
          "width": 2
         },
         "mode": "lines",
         "name": "T1-9 arrival",
         "type": "scatter",
         "x": [
          45,
          45
         ],
         "y": [
          2.5,
          10.5
         ]
        },
        {
         "line": {
          "color": "#06C3A4",
          "width": 4
         },
         "mode": "lines",
         "name": "T1",
         "type": "scatter",
         "x": [
          45,
          47.5
         ],
         "y": [
          10.5,
          8
         ]
        },
        {
         "line": {
          "color": "#06C3A4",
          "width": 4
         },
         "mode": "lines",
         "name": "T1",
         "type": "scatter",
         "x": [
          47.5,
          50
         ],
         "y": [
          8,
          5.5
         ]
        },
        {
         "line": {
          "color": "#06C3A4",
          "dash": "dash",
          "width": 2
         },
         "mode": "lines",
         "name": "T1-10 arrival",
         "type": "scatter",
         "x": [
          50,
          50
         ],
         "y": [
          5.5,
          8.5
         ]
        },
        {
         "line": {
          "color": "#06C3A4",
          "width": 4
         },
         "mode": "lines",
         "name": "T1",
         "type": "scatter",
         "x": [
          50,
          55.5
         ],
         "y": [
          8.5,
          3
         ]
        }
       ],
       "layout": {
        "annotations": [
         {
          "arrowhead": 2,
          "ax": 10,
          "ay": -40,
          "bgcolor": "#06C3A4",
          "showarrow": true,
          "text": "T1-10",
          "x": 0,
          "y": 0
         },
         {
          "arrowhead": 2,
          "ax": 10,
          "ay": 40,
          "bgcolor": "#06C3A4",
          "showarrow": true,
          "text": "T1-0 done",
          "x": 3,
          "y": 0
         },
         {
          "arrowhead": 2,
          "ax": 10,
          "ay": -40,
          "bgcolor": "#06C3A4",
          "showarrow": true,
          "text": "T1-0",
          "x": 5.5,
          "y": 0
         },
         {
          "arrowhead": 2,
          "ax": 10,
          "ay": -40,
          "bgcolor": "#06C3A4",
          "showarrow": true,
          "text": "T1-1",
          "x": 11,
          "y": 2.5
         },
         {
          "arrowhead": 2,
          "ax": 10,
          "ay": 40,
          "bgcolor": "#06C3A4",
          "showarrow": true,
          "text": "T1-1 done",
          "x": 13.5,
          "y": 8
         },
         {
          "arrowhead": 2,
          "ax": 10,
          "ay": -40,
          "bgcolor": "#06C3A4",
          "showarrow": true,
          "text": "T1-2",
          "x": 15.5,
          "y": 6
         },
         {
          "arrowhead": 2,
          "ax": 10,
          "ay": -40,
          "bgcolor": "#06C3A4",
          "showarrow": true,
          "text": "T1-2",
          "x": 20.5,
          "y": 9
         },
         {
          "arrowhead": 2,
          "ax": 10,
          "ay": 40,
          "bgcolor": "#06C3A4",
          "showarrow": true,
          "text": "T1-2 done",
          "x": 21.5,
          "y": 12
         },
         {
          "arrowhead": 2,
          "ax": 10,
          "ay": -40,
          "bgcolor": "#06C3A4",
          "showarrow": true,
          "text": "T1-3",
          "x": 25,
          "y": 8.5
         },
         {
          "arrowhead": 2,
          "ax": 10,
          "ay": 40,
          "bgcolor": "#06C3A4",
          "showarrow": true,
          "text": "T1-3 done",
          "x": 29.5,
          "y": 7
         },
         {
          "arrowhead": 2,
          "ax": 10,
          "ay": -40,
          "bgcolor": "#06C3A4",
          "showarrow": true,
          "text": "T1-4",
          "x": 30.5,
          "y": 6
         },
         {
          "arrowhead": 2,
          "ax": 10,
          "ay": 40,
          "bgcolor": "#06C3A4",
          "showarrow": true,
          "text": "T1-4 done",
          "x": 33.5,
          "y": 7
         },
         {
          "arrowhead": 2,
          "ax": 10,
          "ay": -40,
          "bgcolor": "#06C3A4",
          "showarrow": true,
          "text": "T1-5",
          "x": 36,
          "y": 4.5
         },
         {
          "arrowhead": 2,
          "ax": 10,
          "ay": 40,
          "bgcolor": "#06C3A4",
          "showarrow": true,
          "text": "T1-5 done",
          "x": 36.5,
          "y": 8
         },
         {
          "arrowhead": 2,
          "ax": 10,
          "ay": 40,
          "bgcolor": "#06C3A4",
          "showarrow": true,
          "text": "T1-6 done",
          "x": 40.5,
          "y": 4
         },
         {
          "arrowhead": 2,
          "ax": 10,
          "ay": -40,
          "bgcolor": "#06C3A4",
          "showarrow": true,
          "text": "T1-7",
          "x": 40.5,
          "y": 4
         },
         {
          "arrowhead": 2,
          "ax": 10,
          "ay": 40,
          "bgcolor": "#06C3A4",
          "showarrow": true,
          "text": "T1-7 done",
          "x": 44.5,
          "y": 3
         },
         {
          "arrowhead": 2,
          "ax": 10,
          "ay": -40,
          "bgcolor": "#06C3A4",
          "showarrow": true,
          "text": "T1-8",
          "x": 45,
          "y": 2.5
         },
         {
          "arrowhead": 2,
          "ax": 10,
          "ay": 40,
          "bgcolor": "#06C3A4",
          "showarrow": true,
          "text": "T1-8 done",
          "x": 47.5,
          "y": 8
         },
         {
          "arrowhead": 2,
          "ax": 10,
          "ay": -40,
          "bgcolor": "#06C3A4",
          "showarrow": true,
          "text": "T1-9",
          "x": 50,
          "y": 5.5
         },
         {
          "arrowhead": 2,
          "ax": 10,
          "ay": 40,
          "bgcolor": "#06C3A4",
          "showarrow": true,
          "text": "T1-9 done",
          "x": 55.5,
          "y": 3
         }
        ],
        "showlegend": true,
        "template": {
         "data": {
          "bar": [
           {
            "error_x": {
             "color": "#2a3f5f"
            },
            "error_y": {
             "color": "#2a3f5f"
            },
            "marker": {
             "line": {
              "color": "#E5ECF6",
              "width": 0.5
             },
             "pattern": {
              "fillmode": "overlay",
              "size": 10,
              "solidity": 0.2
             }
            },
            "type": "bar"
           }
          ],
          "barpolar": [
           {
            "marker": {
             "line": {
              "color": "#E5ECF6",
              "width": 0.5
             },
             "pattern": {
              "fillmode": "overlay",
              "size": 10,
              "solidity": 0.2
             }
            },
            "type": "barpolar"
           }
          ],
          "carpet": [
           {
            "aaxis": {
             "endlinecolor": "#2a3f5f",
             "gridcolor": "white",
             "linecolor": "white",
             "minorgridcolor": "white",
             "startlinecolor": "#2a3f5f"
            },
            "baxis": {
             "endlinecolor": "#2a3f5f",
             "gridcolor": "white",
             "linecolor": "white",
             "minorgridcolor": "white",
             "startlinecolor": "#2a3f5f"
            },
            "type": "carpet"
           }
          ],
          "choropleth": [
           {
            "colorbar": {
             "outlinewidth": 0,
             "ticks": ""
            },
            "type": "choropleth"
           }
          ],
          "contour": [
           {
            "colorbar": {
             "outlinewidth": 0,
             "ticks": ""
            },
            "colorscale": [
             [
              0,
              "#0d0887"
             ],
             [
              0.1111111111111111,
              "#46039f"
             ],
             [
              0.2222222222222222,
              "#7201a8"
             ],
             [
              0.3333333333333333,
              "#9c179e"
             ],
             [
              0.4444444444444444,
              "#bd3786"
             ],
             [
              0.5555555555555556,
              "#d8576b"
             ],
             [
              0.6666666666666666,
              "#ed7953"
             ],
             [
              0.7777777777777778,
              "#fb9f3a"
             ],
             [
              0.8888888888888888,
              "#fdca26"
             ],
             [
              1,
              "#f0f921"
             ]
            ],
            "type": "contour"
           }
          ],
          "contourcarpet": [
           {
            "colorbar": {
             "outlinewidth": 0,
             "ticks": ""
            },
            "type": "contourcarpet"
           }
          ],
          "heatmap": [
           {
            "colorbar": {
             "outlinewidth": 0,
             "ticks": ""
            },
            "colorscale": [
             [
              0,
              "#0d0887"
             ],
             [
              0.1111111111111111,
              "#46039f"
             ],
             [
              0.2222222222222222,
              "#7201a8"
             ],
             [
              0.3333333333333333,
              "#9c179e"
             ],
             [
              0.4444444444444444,
              "#bd3786"
             ],
             [
              0.5555555555555556,
              "#d8576b"
             ],
             [
              0.6666666666666666,
              "#ed7953"
             ],
             [
              0.7777777777777778,
              "#fb9f3a"
             ],
             [
              0.8888888888888888,
              "#fdca26"
             ],
             [
              1,
              "#f0f921"
             ]
            ],
            "type": "heatmap"
           }
          ],
          "histogram": [
           {
            "marker": {
             "pattern": {
              "fillmode": "overlay",
              "size": 10,
              "solidity": 0.2
             }
            },
            "type": "histogram"
           }
          ],
          "histogram2d": [
           {
            "colorbar": {
             "outlinewidth": 0,
             "ticks": ""
            },
            "colorscale": [
             [
              0,
              "#0d0887"
             ],
             [
              0.1111111111111111,
              "#46039f"
             ],
             [
              0.2222222222222222,
              "#7201a8"
             ],
             [
              0.3333333333333333,
              "#9c179e"
             ],
             [
              0.4444444444444444,
              "#bd3786"
             ],
             [
              0.5555555555555556,
              "#d8576b"
             ],
             [
              0.6666666666666666,
              "#ed7953"
             ],
             [
              0.7777777777777778,
              "#fb9f3a"
             ],
             [
              0.8888888888888888,
              "#fdca26"
             ],
             [
              1,
              "#f0f921"
             ]
            ],
            "type": "histogram2d"
           }
          ],
          "histogram2dcontour": [
           {
            "colorbar": {
             "outlinewidth": 0,
             "ticks": ""
            },
            "colorscale": [
             [
              0,
              "#0d0887"
             ],
             [
              0.1111111111111111,
              "#46039f"
             ],
             [
              0.2222222222222222,
              "#7201a8"
             ],
             [
              0.3333333333333333,
              "#9c179e"
             ],
             [
              0.4444444444444444,
              "#bd3786"
             ],
             [
              0.5555555555555556,
              "#d8576b"
             ],
             [
              0.6666666666666666,
              "#ed7953"
             ],
             [
              0.7777777777777778,
              "#fb9f3a"
             ],
             [
              0.8888888888888888,
              "#fdca26"
             ],
             [
              1,
              "#f0f921"
             ]
            ],
            "type": "histogram2dcontour"
           }
          ],
          "mesh3d": [
           {
            "colorbar": {
             "outlinewidth": 0,
             "ticks": ""
            },
            "type": "mesh3d"
           }
          ],
          "parcoords": [
           {
            "line": {
             "colorbar": {
              "outlinewidth": 0,
              "ticks": ""
             }
            },
            "type": "parcoords"
           }
          ],
          "pie": [
           {
            "automargin": true,
            "type": "pie"
           }
          ],
          "scatter": [
           {
            "fillpattern": {
             "fillmode": "overlay",
             "size": 10,
             "solidity": 0.2
            },
            "type": "scatter"
           }
          ],
          "scatter3d": [
           {
            "line": {
             "colorbar": {
              "outlinewidth": 0,
              "ticks": ""
             }
            },
            "marker": {
             "colorbar": {
              "outlinewidth": 0,
              "ticks": ""
             }
            },
            "type": "scatter3d"
           }
          ],
          "scattercarpet": [
           {
            "marker": {
             "colorbar": {
              "outlinewidth": 0,
              "ticks": ""
             }
            },
            "type": "scattercarpet"
           }
          ],
          "scattergeo": [
           {
            "marker": {
             "colorbar": {
              "outlinewidth": 0,
              "ticks": ""
             }
            },
            "type": "scattergeo"
           }
          ],
          "scattergl": [
           {
            "marker": {
             "colorbar": {
              "outlinewidth": 0,
              "ticks": ""
             }
            },
            "type": "scattergl"
           }
          ],
          "scattermap": [
           {
            "marker": {
             "colorbar": {
              "outlinewidth": 0,
              "ticks": ""
             }
            },
            "type": "scattermap"
           }
          ],
          "scattermapbox": [
           {
            "marker": {
             "colorbar": {
              "outlinewidth": 0,
              "ticks": ""
             }
            },
            "type": "scattermapbox"
           }
          ],
          "scatterpolar": [
           {
            "marker": {
             "colorbar": {
              "outlinewidth": 0,
              "ticks": ""
             }
            },
            "type": "scatterpolar"
           }
          ],
          "scatterpolargl": [
           {
            "marker": {
             "colorbar": {
              "outlinewidth": 0,
              "ticks": ""
             }
            },
            "type": "scatterpolargl"
           }
          ],
          "scatterternary": [
           {
            "marker": {
             "colorbar": {
              "outlinewidth": 0,
              "ticks": ""
             }
            },
            "type": "scatterternary"
           }
          ],
          "surface": [
           {
            "colorbar": {
             "outlinewidth": 0,
             "ticks": ""
            },
            "colorscale": [
             [
              0,
              "#0d0887"
             ],
             [
              0.1111111111111111,
              "#46039f"
             ],
             [
              0.2222222222222222,
              "#7201a8"
             ],
             [
              0.3333333333333333,
              "#9c179e"
             ],
             [
              0.4444444444444444,
              "#bd3786"
             ],
             [
              0.5555555555555556,
              "#d8576b"
             ],
             [
              0.6666666666666666,
              "#ed7953"
             ],
             [
              0.7777777777777778,
              "#fb9f3a"
             ],
             [
              0.8888888888888888,
              "#fdca26"
             ],
             [
              1,
              "#f0f921"
             ]
            ],
            "type": "surface"
           }
          ],
          "table": [
           {
            "cells": {
             "fill": {
              "color": "#EBF0F8"
             },
             "line": {
              "color": "white"
             }
            },
            "header": {
             "fill": {
              "color": "#C8D4E3"
             },
             "line": {
              "color": "white"
             }
            },
            "type": "table"
           }
          ]
         },
         "layout": {
          "annotationdefaults": {
           "arrowcolor": "#2a3f5f",
           "arrowhead": 0,
           "arrowwidth": 1
          },
          "autotypenumbers": "strict",
          "coloraxis": {
           "colorbar": {
            "outlinewidth": 0,
            "ticks": ""
           }
          },
          "colorscale": {
           "diverging": [
            [
             0,
             "#8e0152"
            ],
            [
             0.1,
             "#c51b7d"
            ],
            [
             0.2,
             "#de77ae"
            ],
            [
             0.3,
             "#f1b6da"
            ],
            [
             0.4,
             "#fde0ef"
            ],
            [
             0.5,
             "#f7f7f7"
            ],
            [
             0.6,
             "#e6f5d0"
            ],
            [
             0.7,
             "#b8e186"
            ],
            [
             0.8,
             "#7fbc41"
            ],
            [
             0.9,
             "#4d9221"
            ],
            [
             1,
             "#276419"
            ]
           ],
           "sequential": [
            [
             0,
             "#0d0887"
            ],
            [
             0.1111111111111111,
             "#46039f"
            ],
            [
             0.2222222222222222,
             "#7201a8"
            ],
            [
             0.3333333333333333,
             "#9c179e"
            ],
            [
             0.4444444444444444,
             "#bd3786"
            ],
            [
             0.5555555555555556,
             "#d8576b"
            ],
            [
             0.6666666666666666,
             "#ed7953"
            ],
            [
             0.7777777777777778,
             "#fb9f3a"
            ],
            [
             0.8888888888888888,
             "#fdca26"
            ],
            [
             1,
             "#f0f921"
            ]
           ],
           "sequentialminus": [
            [
             0,
             "#0d0887"
            ],
            [
             0.1111111111111111,
             "#46039f"
            ],
            [
             0.2222222222222222,
             "#7201a8"
            ],
            [
             0.3333333333333333,
             "#9c179e"
            ],
            [
             0.4444444444444444,
             "#bd3786"
            ],
            [
             0.5555555555555556,
             "#d8576b"
            ],
            [
             0.6666666666666666,
             "#ed7953"
            ],
            [
             0.7777777777777778,
             "#fb9f3a"
            ],
            [
             0.8888888888888888,
             "#fdca26"
            ],
            [
             1,
             "#f0f921"
            ]
           ]
          },
          "colorway": [
           "#636efa",
           "#EF553B",
           "#00cc96",
           "#ab63fa",
           "#FFA15A",
           "#19d3f3",
           "#FF6692",
           "#B6E880",
           "#FF97FF",
           "#FECB52"
          ],
          "font": {
           "color": "#2a3f5f"
          },
          "geo": {
           "bgcolor": "white",
           "lakecolor": "white",
           "landcolor": "#E5ECF6",
           "showlakes": true,
           "showland": true,
           "subunitcolor": "white"
          },
          "hoverlabel": {
           "align": "left"
          },
          "hovermode": "closest",
          "mapbox": {
           "style": "light"
          },
          "paper_bgcolor": "white",
          "plot_bgcolor": "#E5ECF6",
          "polar": {
           "angularaxis": {
            "gridcolor": "white",
            "linecolor": "white",
            "ticks": ""
           },
           "bgcolor": "#E5ECF6",
           "radialaxis": {
            "gridcolor": "white",
            "linecolor": "white",
            "ticks": ""
           }
          },
          "scene": {
           "xaxis": {
            "backgroundcolor": "#E5ECF6",
            "gridcolor": "white",
            "gridwidth": 2,
            "linecolor": "white",
            "showbackground": true,
            "ticks": "",
            "zerolinecolor": "white"
           },
           "yaxis": {
            "backgroundcolor": "#E5ECF6",
            "gridcolor": "white",
            "gridwidth": 2,
            "linecolor": "white",
            "showbackground": true,
            "ticks": "",
            "zerolinecolor": "white"
           },
           "zaxis": {
            "backgroundcolor": "#E5ECF6",
            "gridcolor": "white",
            "gridwidth": 2,
            "linecolor": "white",
            "showbackground": true,
            "ticks": "",
            "zerolinecolor": "white"
           }
          },
          "shapedefaults": {
           "line": {
            "color": "#2a3f5f"
           }
          },
          "ternary": {
           "aaxis": {
            "gridcolor": "white",
            "linecolor": "white",
            "ticks": ""
           },
           "baxis": {
            "gridcolor": "white",
            "linecolor": "white",
            "ticks": ""
           },
           "bgcolor": "#E5ECF6",
           "caxis": {
            "gridcolor": "white",
            "linecolor": "white",
            "ticks": ""
           }
          },
          "title": {
           "x": 0.05
          },
          "xaxis": {
           "automargin": true,
           "gridcolor": "white",
           "linecolor": "white",
           "ticks": "",
           "title": {
            "standoff": 15
           },
           "zerolinecolor": "white",
           "zerolinewidth": 2
          },
          "yaxis": {
           "automargin": true,
           "gridcolor": "white",
           "linecolor": "white",
           "ticks": "",
           "title": {
            "standoff": 15
           },
           "zerolinecolor": "white",
           "zerolinewidth": 2
          }
         }
        },
        "title": {
         "text": "System Backlog Over Time"
        },
        "xaxis": {
         "title": {
          "text": "Time"
         }
        },
        "yaxis": {
         "title": {
          "text": "Backlog"
         }
        }
       }
      }
     },
     "metadata": {},
     "output_type": "display_data"
    }
   ],
   "source": [
    "interval = 50\n",
    "\n",
    "P = Uniprocessor(policy=\"FIFO\", taskload=taskload)\n",
    "WL = P.get_workload_until(interval)\n",
    "T = get_periodic_tasks_hyperperiod(taskload)\n",
    "PM = PlotManager(WL)\n",
    "myfig = PM.plot_backlog()\n",
    "myfig.show()"
   ]
  },
  {
   "cell_type": "code",
   "execution_count": 33,
   "id": "7a1b4c3c",
   "metadata": {},
   "outputs": [
    {
     "data": {
      "image/png": "[encoded data removed]",
      "text/plain": [
       "<Figure size 1200x770 with 1 Axes>"
      ]
     },
     "metadata": {},
     "output_type": "display_data"
    },
    {
     "data": {
      "image/png": "[encoded data removed]",
      "text/plain": [
       "<Figure size 1200x770 with 1 Axes>"
      ]
     },
     "metadata": {},
     "output_type": "display_data"
    }
   ],
   "source": [
    "PM.plot_task_timeline(tasks_names_reference=[\"T1\"], relative_to_arrival=False, sort_reverse=True)\n",
    "PM.plot_task_timeline(tasks_names_reference=[\"T1\"], relative_to_arrival=True, sort_reverse=True)"
   ]
  }
 ],
 "metadata": {
  "kernelspec": {
   "display_name": "Python 3",
   "language": "python",
   "name": "python3"
  },
  "language_info": {
   "codemirror_mode": {
    "name": "ipython",
    "version": 3
   },
   "file_extension": ".py",
   "mimetype": "text/x-python",
   "name": "python",
   "nbconvert_exporter": "python",
   "pygments_lexer": "ipython3",
   "version": "3.13.7"
  }
 },
 "nbformat": 4,
 "nbformat_minor": 5
}
